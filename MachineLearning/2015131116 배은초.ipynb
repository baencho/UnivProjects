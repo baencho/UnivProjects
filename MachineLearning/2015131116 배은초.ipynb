{
 "cells": [
  {
   "cell_type": "code",
   "execution_count": 1,
   "metadata": {
    "collapsed": true
   },
   "outputs": [],
   "source": [
    "import pandas as pd\n",
    "import seaborn as sns\n",
    "import sklearn as sk"
   ]
  },
  {
   "cell_type": "code",
   "execution_count": 2,
   "metadata": {
    "collapsed": true
   },
   "outputs": [],
   "source": [
    "data = pd.read_csv(\"Train_data.csv\")"
   ]
  },
  {
   "cell_type": "markdown",
   "metadata": {},
   "source": [
    "# 1. 데이터 전처리"
   ]
  },
  {
   "cell_type": "markdown",
   "metadata": {},
   "source": [
    "## 1.1. protocol_type 을 numerical data로"
   ]
  },
  {
   "cell_type": "markdown",
   "metadata": {},
   "source": [
    " protocol_type은 각 icmp, tcp, udp의 세 가지로 구분되어 있다. 하지만 training을 시킬 때 이러한 categorical data들은 사용하지 못하기 때문에, 이를 numerical data로 변환시킬 필요가 있다. scikit에서는 label encoder와 one hot encoder를 제공하는데, label encoder는 각각의 category를 숫자로 변환 (ex. icmp = 1, tcp = 2, udp =3)으로 해준다. 하지만 label encoding을 할 경우 knn과 같은 몇 가지 알고리즘에서 이를 수치값으로 인식하여 문제가 생길 수 있기 때문에, one hot encoder로 한 번 더 encoding 한다. "
   ]
  },
  {
   "cell_type": "code",
   "execution_count": 3,
   "metadata": {
    "collapsed": true
   },
   "outputs": [],
   "source": [
    "from sklearn.preprocessing import LabelEncoder\n",
    "from sklearn.preprocessing import OneHotEncoder"
   ]
  },
  {
   "cell_type": "code",
   "execution_count": 4,
   "metadata": {
    "collapsed": true
   },
   "outputs": [],
   "source": [
    "le = LabelEncoder()\n",
    "ohe = OneHotEncoder()"
   ]
  },
  {
   "cell_type": "code",
   "execution_count": 5,
   "metadata": {
    "collapsed": true
   },
   "outputs": [],
   "source": [
    "data.protocol_type = le.fit_transform(data.protocol_type)"
   ]
  },
  {
   "cell_type": "code",
   "execution_count": 6,
   "metadata": {
    "collapsed": true
   },
   "outputs": [],
   "source": [
    "data.protocol_type = ohe.fit_transform(data.protocol_type.values.reshape(-1, 1)).toarray()"
   ]
  },
  {
   "cell_type": "markdown",
   "metadata": {},
   "source": [
    "## 1.2. x와 y로 나누기"
   ]
  },
  {
   "cell_type": "markdown",
   "metadata": {},
   "source": [
    " scikit에서 training을 위해서 class부분과 attribute 부분을 나눠야 한다. x는 모든 instance의 attribute항목에 따른 값들이고 y는 모든 instance들의 class이다."
   ]
  },
  {
   "cell_type": "code",
   "execution_count": 7,
   "metadata": {
    "collapsed": true
   },
   "outputs": [],
   "source": [
    "x = data.iloc[:,:-1]\n",
    "y = data.loc[:,'xAttack']"
   ]
  },
  {
   "cell_type": "markdown",
   "metadata": {},
   "source": [
    "## 1.3. 데이터 분석 및 feature drop"
   ]
  },
  {
   "cell_type": "markdown",
   "metadata": {},
   "source": [
    "주어진 데이터는 KDD Cup 1999 Dataset을 가공한 네트워크 침입 감시 시스템용 데이터이다. Class는 침입을 당했는지, 당했다면 어떤 침입을 당했는지에 대한 내용이며, normal, dos, u2r, r2l, probe의 5개의 class가 존재한다."
   ]
  },
  {
   "cell_type": "markdown",
   "metadata": {},
   "source": [
    "Train_data.csv파일에 있는 인스턴스 중 각 클래스의 갯수는 다음과 같다:\n",
    "\n",
    "    normal : 67343\n",
    "    dos : 45927\n",
    "    probe : 11656\n",
    "    u2r : 52\n",
    "    r2l : 995"
   ]
  },
  {
   "cell_type": "code",
   "execution_count": 8,
   "metadata": {
    "scrolled": true
   },
   "outputs": [
    {
     "data": {
      "text/html": [
       "<div>\n",
       "<style>\n",
       "    .dataframe thead tr:only-child th {\n",
       "        text-align: right;\n",
       "    }\n",
       "\n",
       "    .dataframe thead th {\n",
       "        text-align: left;\n",
       "    }\n",
       "\n",
       "    .dataframe tbody tr th {\n",
       "        vertical-align: top;\n",
       "    }\n",
       "</style>\n",
       "<table border=\"1\" class=\"dataframe\">\n",
       "  <thead>\n",
       "    <tr style=\"text-align: right;\">\n",
       "      <th></th>\n",
       "      <th>duration</th>\n",
       "      <th>protocol_type</th>\n",
       "      <th>service</th>\n",
       "      <th>flag</th>\n",
       "      <th>src_bytes</th>\n",
       "      <th>dst_bytes</th>\n",
       "      <th>land</th>\n",
       "      <th>wrong_fragment</th>\n",
       "      <th>urgent</th>\n",
       "      <th>hot</th>\n",
       "      <th>...</th>\n",
       "      <th>dst_host_count</th>\n",
       "      <th>dst_host_srv_count</th>\n",
       "      <th>dst_host_same_srv_rate</th>\n",
       "      <th>dst_host_diff_srv_rate</th>\n",
       "      <th>dst_host_same_src_port_rate</th>\n",
       "      <th>dst_host_srv_diff_host_rate</th>\n",
       "      <th>dst_host_serror_rate</th>\n",
       "      <th>dst_host_srv_serror_rate</th>\n",
       "      <th>dst_host_rerror_rate</th>\n",
       "      <th>dst_host_srv_rerror_rate</th>\n",
       "    </tr>\n",
       "  </thead>\n",
       "  <tbody>\n",
       "    <tr>\n",
       "      <th>count</th>\n",
       "      <td>125973.00000</td>\n",
       "      <td>125973.000000</td>\n",
       "      <td>125973.000000</td>\n",
       "      <td>125973.000000</td>\n",
       "      <td>1.259730e+05</td>\n",
       "      <td>1.259730e+05</td>\n",
       "      <td>125973.000000</td>\n",
       "      <td>125973.000000</td>\n",
       "      <td>125973.000000</td>\n",
       "      <td>125973.000000</td>\n",
       "      <td>...</td>\n",
       "      <td>125973.000000</td>\n",
       "      <td>125973.000000</td>\n",
       "      <td>125973.000000</td>\n",
       "      <td>125973.000000</td>\n",
       "      <td>125973.000000</td>\n",
       "      <td>125973.000000</td>\n",
       "      <td>125973.000000</td>\n",
       "      <td>125973.000000</td>\n",
       "      <td>125973.000000</td>\n",
       "      <td>125973.000000</td>\n",
       "    </tr>\n",
       "    <tr>\n",
       "      <th>mean</th>\n",
       "      <td>287.14465</td>\n",
       "      <td>0.815167</td>\n",
       "      <td>32.086288</td>\n",
       "      <td>2.575179</td>\n",
       "      <td>4.556674e+04</td>\n",
       "      <td>1.977911e+04</td>\n",
       "      <td>0.000198</td>\n",
       "      <td>0.022687</td>\n",
       "      <td>0.000111</td>\n",
       "      <td>0.204409</td>\n",
       "      <td>...</td>\n",
       "      <td>182.148945</td>\n",
       "      <td>115.653005</td>\n",
       "      <td>0.521242</td>\n",
       "      <td>0.082951</td>\n",
       "      <td>0.148379</td>\n",
       "      <td>0.032542</td>\n",
       "      <td>0.284452</td>\n",
       "      <td>0.278485</td>\n",
       "      <td>0.118832</td>\n",
       "      <td>0.120240</td>\n",
       "    </tr>\n",
       "    <tr>\n",
       "      <th>std</th>\n",
       "      <td>2604.51531</td>\n",
       "      <td>0.388164</td>\n",
       "      <td>16.462574</td>\n",
       "      <td>1.141552</td>\n",
       "      <td>5.870331e+06</td>\n",
       "      <td>4.021269e+06</td>\n",
       "      <td>0.014086</td>\n",
       "      <td>0.253530</td>\n",
       "      <td>0.014366</td>\n",
       "      <td>2.149968</td>\n",
       "      <td>...</td>\n",
       "      <td>99.206213</td>\n",
       "      <td>110.702741</td>\n",
       "      <td>0.448949</td>\n",
       "      <td>0.188922</td>\n",
       "      <td>0.308997</td>\n",
       "      <td>0.112564</td>\n",
       "      <td>0.444784</td>\n",
       "      <td>0.445669</td>\n",
       "      <td>0.306557</td>\n",
       "      <td>0.319459</td>\n",
       "    </tr>\n",
       "    <tr>\n",
       "      <th>min</th>\n",
       "      <td>0.00000</td>\n",
       "      <td>0.000000</td>\n",
       "      <td>1.000000</td>\n",
       "      <td>1.000000</td>\n",
       "      <td>0.000000e+00</td>\n",
       "      <td>0.000000e+00</td>\n",
       "      <td>0.000000</td>\n",
       "      <td>0.000000</td>\n",
       "      <td>0.000000</td>\n",
       "      <td>0.000000</td>\n",
       "      <td>...</td>\n",
       "      <td>0.000000</td>\n",
       "      <td>0.000000</td>\n",
       "      <td>0.000000</td>\n",
       "      <td>0.000000</td>\n",
       "      <td>0.000000</td>\n",
       "      <td>0.000000</td>\n",
       "      <td>0.000000</td>\n",
       "      <td>0.000000</td>\n",
       "      <td>0.000000</td>\n",
       "      <td>0.000000</td>\n",
       "    </tr>\n",
       "    <tr>\n",
       "      <th>25%</th>\n",
       "      <td>0.00000</td>\n",
       "      <td>1.000000</td>\n",
       "      <td>20.000000</td>\n",
       "      <td>2.000000</td>\n",
       "      <td>0.000000e+00</td>\n",
       "      <td>0.000000e+00</td>\n",
       "      <td>0.000000</td>\n",
       "      <td>0.000000</td>\n",
       "      <td>0.000000</td>\n",
       "      <td>0.000000</td>\n",
       "      <td>...</td>\n",
       "      <td>82.000000</td>\n",
       "      <td>10.000000</td>\n",
       "      <td>0.050000</td>\n",
       "      <td>0.000000</td>\n",
       "      <td>0.000000</td>\n",
       "      <td>0.000000</td>\n",
       "      <td>0.000000</td>\n",
       "      <td>0.000000</td>\n",
       "      <td>0.000000</td>\n",
       "      <td>0.000000</td>\n",
       "    </tr>\n",
       "    <tr>\n",
       "      <th>50%</th>\n",
       "      <td>0.00000</td>\n",
       "      <td>1.000000</td>\n",
       "      <td>25.000000</td>\n",
       "      <td>2.000000</td>\n",
       "      <td>4.400000e+01</td>\n",
       "      <td>0.000000e+00</td>\n",
       "      <td>0.000000</td>\n",
       "      <td>0.000000</td>\n",
       "      <td>0.000000</td>\n",
       "      <td>0.000000</td>\n",
       "      <td>...</td>\n",
       "      <td>255.000000</td>\n",
       "      <td>63.000000</td>\n",
       "      <td>0.510000</td>\n",
       "      <td>0.020000</td>\n",
       "      <td>0.000000</td>\n",
       "      <td>0.000000</td>\n",
       "      <td>0.000000</td>\n",
       "      <td>0.000000</td>\n",
       "      <td>0.000000</td>\n",
       "      <td>0.000000</td>\n",
       "    </tr>\n",
       "    <tr>\n",
       "      <th>75%</th>\n",
       "      <td>0.00000</td>\n",
       "      <td>1.000000</td>\n",
       "      <td>50.000000</td>\n",
       "      <td>4.000000</td>\n",
       "      <td>2.760000e+02</td>\n",
       "      <td>5.160000e+02</td>\n",
       "      <td>0.000000</td>\n",
       "      <td>0.000000</td>\n",
       "      <td>0.000000</td>\n",
       "      <td>0.000000</td>\n",
       "      <td>...</td>\n",
       "      <td>255.000000</td>\n",
       "      <td>255.000000</td>\n",
       "      <td>1.000000</td>\n",
       "      <td>0.070000</td>\n",
       "      <td>0.060000</td>\n",
       "      <td>0.020000</td>\n",
       "      <td>1.000000</td>\n",
       "      <td>1.000000</td>\n",
       "      <td>0.000000</td>\n",
       "      <td>0.000000</td>\n",
       "    </tr>\n",
       "    <tr>\n",
       "      <th>max</th>\n",
       "      <td>42908.00000</td>\n",
       "      <td>1.000000</td>\n",
       "      <td>70.000000</td>\n",
       "      <td>11.000000</td>\n",
       "      <td>1.379964e+09</td>\n",
       "      <td>1.309937e+09</td>\n",
       "      <td>1.000000</td>\n",
       "      <td>3.000000</td>\n",
       "      <td>3.000000</td>\n",
       "      <td>77.000000</td>\n",
       "      <td>...</td>\n",
       "      <td>255.000000</td>\n",
       "      <td>255.000000</td>\n",
       "      <td>1.000000</td>\n",
       "      <td>1.000000</td>\n",
       "      <td>1.000000</td>\n",
       "      <td>1.000000</td>\n",
       "      <td>1.000000</td>\n",
       "      <td>1.000000</td>\n",
       "      <td>1.000000</td>\n",
       "      <td>1.000000</td>\n",
       "    </tr>\n",
       "  </tbody>\n",
       "</table>\n",
       "<p>8 rows × 41 columns</p>\n",
       "</div>"
      ],
      "text/plain": [
       "           duration  protocol_type        service           flag  \\\n",
       "count  125973.00000  125973.000000  125973.000000  125973.000000   \n",
       "mean      287.14465       0.815167      32.086288       2.575179   \n",
       "std      2604.51531       0.388164      16.462574       1.141552   \n",
       "min         0.00000       0.000000       1.000000       1.000000   \n",
       "25%         0.00000       1.000000      20.000000       2.000000   \n",
       "50%         0.00000       1.000000      25.000000       2.000000   \n",
       "75%         0.00000       1.000000      50.000000       4.000000   \n",
       "max     42908.00000       1.000000      70.000000      11.000000   \n",
       "\n",
       "          src_bytes     dst_bytes           land  wrong_fragment  \\\n",
       "count  1.259730e+05  1.259730e+05  125973.000000   125973.000000   \n",
       "mean   4.556674e+04  1.977911e+04       0.000198        0.022687   \n",
       "std    5.870331e+06  4.021269e+06       0.014086        0.253530   \n",
       "min    0.000000e+00  0.000000e+00       0.000000        0.000000   \n",
       "25%    0.000000e+00  0.000000e+00       0.000000        0.000000   \n",
       "50%    4.400000e+01  0.000000e+00       0.000000        0.000000   \n",
       "75%    2.760000e+02  5.160000e+02       0.000000        0.000000   \n",
       "max    1.379964e+09  1.309937e+09       1.000000        3.000000   \n",
       "\n",
       "              urgent            hot            ...             dst_host_count  \\\n",
       "count  125973.000000  125973.000000            ...              125973.000000   \n",
       "mean        0.000111       0.204409            ...                 182.148945   \n",
       "std         0.014366       2.149968            ...                  99.206213   \n",
       "min         0.000000       0.000000            ...                   0.000000   \n",
       "25%         0.000000       0.000000            ...                  82.000000   \n",
       "50%         0.000000       0.000000            ...                 255.000000   \n",
       "75%         0.000000       0.000000            ...                 255.000000   \n",
       "max         3.000000      77.000000            ...                 255.000000   \n",
       "\n",
       "       dst_host_srv_count  dst_host_same_srv_rate  dst_host_diff_srv_rate  \\\n",
       "count       125973.000000           125973.000000           125973.000000   \n",
       "mean           115.653005                0.521242                0.082951   \n",
       "std            110.702741                0.448949                0.188922   \n",
       "min              0.000000                0.000000                0.000000   \n",
       "25%             10.000000                0.050000                0.000000   \n",
       "50%             63.000000                0.510000                0.020000   \n",
       "75%            255.000000                1.000000                0.070000   \n",
       "max            255.000000                1.000000                1.000000   \n",
       "\n",
       "       dst_host_same_src_port_rate  dst_host_srv_diff_host_rate  \\\n",
       "count                125973.000000                125973.000000   \n",
       "mean                      0.148379                     0.032542   \n",
       "std                       0.308997                     0.112564   \n",
       "min                       0.000000                     0.000000   \n",
       "25%                       0.000000                     0.000000   \n",
       "50%                       0.000000                     0.000000   \n",
       "75%                       0.060000                     0.020000   \n",
       "max                       1.000000                     1.000000   \n",
       "\n",
       "       dst_host_serror_rate  dst_host_srv_serror_rate  dst_host_rerror_rate  \\\n",
       "count         125973.000000             125973.000000         125973.000000   \n",
       "mean               0.284452                  0.278485              0.118832   \n",
       "std                0.444784                  0.445669              0.306557   \n",
       "min                0.000000                  0.000000              0.000000   \n",
       "25%                0.000000                  0.000000              0.000000   \n",
       "50%                0.000000                  0.000000              0.000000   \n",
       "75%                1.000000                  1.000000              0.000000   \n",
       "max                1.000000                  1.000000              1.000000   \n",
       "\n",
       "       dst_host_srv_rerror_rate  \n",
       "count             125973.000000  \n",
       "mean                   0.120240  \n",
       "std                    0.319459  \n",
       "min                    0.000000  \n",
       "25%                    0.000000  \n",
       "50%                    0.000000  \n",
       "75%                    0.000000  \n",
       "max                    1.000000  \n",
       "\n",
       "[8 rows x 41 columns]"
      ]
     },
     "execution_count": 8,
     "metadata": {},
     "output_type": "execute_result"
    }
   ],
   "source": [
    "data.describe()"
   ]
  },
  {
   "cell_type": "markdown",
   "metadata": {},
   "source": [
    "데이터를 보면, 75%이하가 0인 atrribute들이 더 많다. 더 자세하게 이를 살펴보기 위해서 excel을 이용해 csv파일을 열어서 각 항목 중 대부분이 0인 데이터들을 찾은 후, 이들이 class에 따라 특정한 값을 가지고 있는지, 즉 classify에 도움이 되는 attribute일지 판단해보았다."
   ]
  },
  {
   "cell_type": "markdown",
   "metadata": {},
   "source": [
    "\n",
    "      land / wrong_fragment /\turgent\t/ hot /\tnum_failed_logins\t/ num_compromised / root_shell\t/ su_attempted\t/ num_root\t/ num_file_creations\t/ num_shells\t/ num_access_files\t/ num_outbound_cmds\t/ is_host_login\t/ is_guest_login\n",
    "  \n",
    "위의 항목들은 대부분이 0을 차지하고 있는 atrribute들이다. \n",
    "우선적으로 모든 instance의 값이 0인 num_outbout_cmds와 1개 빼고 다 0인 is_host 두 개의 attribute은 삭제해주었다. "
   ]
  },
  {
   "cell_type": "code",
   "execution_count": 9,
   "metadata": {
    "collapsed": true
   },
   "outputs": [],
   "source": [
    "x = x.drop('num_outbound_cmds', axis=1)\n",
    "x = x.drop('is_host_login', axis=1)"
   ]
  },
  {
   "cell_type": "markdown",
   "metadata": {},
   "source": [
    "    그리고 attribute중 많은 수가 0인데, 값이 있는 instance들도 class의 변화가 없는 attribute들도 삭제해준다.\n",
    "    \n",
    "    1) root_shell은 1이 170만개정도, 나머지는 0이었는데, 170만개의 1인 instance들의 class가 크게 다르지 않았다.\n",
    "    2)su_attempt는 1이 80개인데, 대부분 normal이다. \n",
    "    3) num_root는 1이상인 값이 288개정도 인데, class차이가 크지 않다.\n",
    "    4) num_shell도 1이상이 50개정도밖에 되지 않았다. \n",
    "    5) num_access_files도 1이상이 400만개정도 밖에 없었는데 대부분 normal이었다. \n",
    "    6) urgent는 값이 있는 instance가 9개인데, normal, dos, r2l이 다 섞여있어서 의미 없다고 판단햇다.\n",
    "    7) land는 25개만이 1이고 나머지는 모두 0이다.\n",
    "    8) wrong_fragment 1090개가 1~3사이의 정수값이다. 이들 대부분이 dos이다. 하지만 dos의 갯수가 45927개 이기 때문에 큰 의미가 없다고 판단했다.\n",
    "    9) num_failed_logins : 122개가 1~5 사이의 정수값이다. r2l과 normal이 많았다. 하지만 역시 r2l이 995개인점을 고려하면 큰 의미가 없다고 판단했다.\n",
    "    10) num_compromised 1286개의 데이터가 정수값을 가지고 있다. 편차가 꽤 큰 편인데, normal과 dos가 섞여있지만, normal와 dos를 합치면 약 십만개라는 점에서 무시 가능하다고 판단했다\n",
    "    11) num_shells 47개만이값을 가진다."
   ]
  },
  {
   "cell_type": "code",
   "execution_count": 10,
   "metadata": {
    "collapsed": true
   },
   "outputs": [],
   "source": [
    "x = x.drop('root_shell', axis=1)\n",
    "x = x.drop('su_attempted', axis=1)\n",
    "x = x.drop('num_root', axis=1)\n",
    "x = x.drop('num_file_creations', axis=1)\n",
    "x = x.drop('num_access_files', axis=1)\n",
    "x = x.drop('is_guest_login', axis=1)\n",
    "x = x.drop('urgent', axis=1)\n",
    "x = x.drop('land', axis=1)\n",
    "x = x.drop('wrong_fragment', axis = 1)\n",
    "x = x.drop('num_failed_logins', axis=1)\n",
    "x = x.drop('num_compromised', axis=1)\n",
    "x = x.drop('num_shells', axis=1)"
   ]
  },
  {
   "cell_type": "markdown",
   "metadata": {},
   "source": [
    "drop을 여기까지 했을 때 adaBoost가 성능이 제일 좋았고, 80%가까이 나왔지만, probe, r2l, u2r에 대한 판단이 없었다. 나머지는 다 40%정도로 성능이 낮았다. 이후에 dest_host_srv_count와 dest_host_count도 drop해 보았는데, 더 성능이 떨어졌다."
   ]
  },
  {
   "cell_type": "markdown",
   "metadata": {},
   "source": [
    "hot의 경우 2500개가량만 값을 가져서 처음에 제거했으나, 큰 값의 표현가 없어서 포함했다."
   ]
  },
  {
   "cell_type": "markdown",
   "metadata": {},
   "source": [
    "## 1.4. standardization"
   ]
  },
  {
   "cell_type": "code",
   "execution_count": 11,
   "metadata": {
    "collapsed": true
   },
   "outputs": [],
   "source": [
    "from sklearn import preprocessing"
   ]
  },
  {
   "cell_type": "code",
   "execution_count": 12,
   "metadata": {
    "collapsed": true
   },
   "outputs": [],
   "source": [
    "scaler = preprocessing.StandardScaler().fit(x)"
   ]
  },
  {
   "cell_type": "code",
   "execution_count": 13,
   "metadata": {
    "collapsed": true
   },
   "outputs": [],
   "source": [
    "x = scaler.transform(x)"
   ]
  },
  {
   "cell_type": "markdown",
   "metadata": {},
   "source": [
    "## 1.5. x와 y를 training, test set으로 나누기"
   ]
  },
  {
   "cell_type": "markdown",
   "metadata": {},
   "source": [
    "model을 만들때는 모든 dataset으로 트레이닝 하면 되지만, test set이 없다면 x와 y를 training set와 test set으로 나누어, training set으로 model을 만든 후에 test set으로 이를 검증해야 한다. 이를 위해서 나누어보았다. 여기에서는 40%를 test dataset로, 60%를 training set으로 만들었다"
   ]
  },
  {
   "cell_type": "code",
   "execution_count": 14,
   "metadata": {
    "collapsed": true
   },
   "outputs": [],
   "source": [
    "from sklearn.model_selection import train_test_split as tts"
   ]
  },
  {
   "cell_type": "code",
   "execution_count": 15,
   "metadata": {
    "collapsed": true
   },
   "outputs": [],
   "source": [
    "x_train, x_test, y_train, y_test = tts(x, y, test_size=0.4, random_state=0)"
   ]
  },
  {
   "cell_type": "markdown",
   "metadata": {},
   "source": [
    "\n",
    "\n",
    "\n"
   ]
  },
  {
   "cell_type": "markdown",
   "metadata": {},
   "source": [
    "# 2. 기본적인 Algorithm 시도"
   ]
  },
  {
   "cell_type": "markdown",
   "metadata": {},
   "source": [
    "## 2.1. Decision tree, MLP, adaBoost 해보기"
   ]
  },
  {
   "cell_type": "markdown",
   "metadata": {},
   "source": [
    "Decision tree, MLP, adaBoost 등을 간단하게 위에서 나눈 training set으로 모델링 해보았다. 그리고 test set으로 accuracy를 확인해보았다."
   ]
  },
  {
   "cell_type": "markdown",
   "metadata": {},
   "source": [
    "### 2.1.1. import classifier package"
   ]
  },
  {
   "cell_type": "code",
   "execution_count": 16,
   "metadata": {
    "collapsed": true
   },
   "outputs": [],
   "source": [
    "from sklearn import tree"
   ]
  },
  {
   "cell_type": "code",
   "execution_count": 17,
   "metadata": {
    "collapsed": true
   },
   "outputs": [],
   "source": [
    "from sklearn.neural_network import MLPClassifier"
   ]
  },
  {
   "cell_type": "code",
   "execution_count": 18,
   "metadata": {
    "collapsed": true
   },
   "outputs": [],
   "source": [
    "from sklearn.ensemble import AdaBoostClassifier"
   ]
  },
  {
   "cell_type": "code",
   "execution_count": 19,
   "metadata": {
    "collapsed": true
   },
   "outputs": [],
   "source": [
    "from sklearn.ensemble import RandomForestClassifier"
   ]
  },
  {
   "cell_type": "code",
   "execution_count": 20,
   "metadata": {
    "collapsed": true
   },
   "outputs": [],
   "source": [
    "from sklearn.neighbors import KNeighborsClassifier"
   ]
  },
  {
   "cell_type": "code",
   "execution_count": 21,
   "metadata": {
    "collapsed": true
   },
   "outputs": [],
   "source": [
    "from sklearn.naive_bayes import GaussianNB"
   ]
  },
  {
   "cell_type": "markdown",
   "metadata": {},
   "source": [
    "### 2.1.2. get classifier"
   ]
  },
  {
   "cell_type": "code",
   "execution_count": 22,
   "metadata": {
    "collapsed": true
   },
   "outputs": [],
   "source": [
    "clf_tree = tree.DecisionTreeClassifier()"
   ]
  },
  {
   "cell_type": "code",
   "execution_count": 23,
   "metadata": {
    "collapsed": true
   },
   "outputs": [],
   "source": [
    "clf_mlp = MLPClassifier()"
   ]
  },
  {
   "cell_type": "code",
   "execution_count": 24,
   "metadata": {
    "collapsed": true
   },
   "outputs": [],
   "source": [
    "clf_ada = AdaBoostClassifier()"
   ]
  },
  {
   "cell_type": "code",
   "execution_count": 25,
   "metadata": {
    "collapsed": true
   },
   "outputs": [],
   "source": [
    "clf_rfc = RandomForestClassifier()"
   ]
  },
  {
   "cell_type": "code",
   "execution_count": 26,
   "metadata": {
    "collapsed": true
   },
   "outputs": [],
   "source": [
    "clf_knn = KNeighborsClassifier()"
   ]
  },
  {
   "cell_type": "code",
   "execution_count": 27,
   "metadata": {
    "collapsed": true
   },
   "outputs": [],
   "source": [
    "clf_gnb = GaussianNB()"
   ]
  },
  {
   "cell_type": "markdown",
   "metadata": {},
   "source": [
    "### 2.1.3. training & build model"
   ]
  },
  {
   "cell_type": "code",
   "execution_count": 28,
   "metadata": {
    "collapsed": true
   },
   "outputs": [],
   "source": [
    "model_dt = clf_tree.fit(x_train, y_train)"
   ]
  },
  {
   "cell_type": "code",
   "execution_count": 29,
   "metadata": {
    "collapsed": true
   },
   "outputs": [],
   "source": [
    "model_mlp = clf_mlp.fit(x_train, y_train)"
   ]
  },
  {
   "cell_type": "code",
   "execution_count": 30,
   "metadata": {
    "collapsed": true
   },
   "outputs": [],
   "source": [
    "model_ada = clf_ada.fit(x_train, y_train)"
   ]
  },
  {
   "cell_type": "code",
   "execution_count": 31,
   "metadata": {
    "collapsed": true
   },
   "outputs": [],
   "source": [
    "model_rfc = clf_rfc.fit(x_train, y_train)"
   ]
  },
  {
   "cell_type": "code",
   "execution_count": 32,
   "metadata": {
    "collapsed": true
   },
   "outputs": [],
   "source": [
    "model_knn = clf_knn.fit(x_train, y_train)"
   ]
  },
  {
   "cell_type": "code",
   "execution_count": 33,
   "metadata": {
    "collapsed": true
   },
   "outputs": [],
   "source": [
    "model_gnb = clf_gnb.fit(x_train, y_train)"
   ]
  },
  {
   "cell_type": "markdown",
   "metadata": {},
   "source": [
    "### 2.1.4. predict, accuracy 측정"
   ]
  },
  {
   "cell_type": "code",
   "execution_count": 34,
   "metadata": {
    "collapsed": true
   },
   "outputs": [],
   "source": [
    "from sklearn.metrics import accuracy_score"
   ]
  },
  {
   "cell_type": "markdown",
   "metadata": {},
   "source": [
    "(1) Tree"
   ]
  },
  {
   "cell_type": "code",
   "execution_count": 35,
   "metadata": {
    "collapsed": true
   },
   "outputs": [],
   "source": [
    "x_test_pred = clf_tree.predict(x_test)"
   ]
  },
  {
   "cell_type": "code",
   "execution_count": 36,
   "metadata": {},
   "outputs": [
    {
     "data": {
      "text/plain": [
       "0.9973804326255209"
      ]
     },
     "execution_count": 36,
     "metadata": {},
     "output_type": "execute_result"
    }
   ],
   "source": [
    "accuracy_score(y_test, x_test_pred)"
   ]
  },
  {
   "cell_type": "markdown",
   "metadata": {},
   "source": [
    "(2) MLP"
   ]
  },
  {
   "cell_type": "code",
   "execution_count": 37,
   "metadata": {},
   "outputs": [
    {
     "data": {
      "text/plain": [
       "0.99464179400674735"
      ]
     },
     "execution_count": 37,
     "metadata": {},
     "output_type": "execute_result"
    }
   ],
   "source": [
    "x_test_pred = clf_mlp.predict(x_test)\n",
    "accuracy_score(y_test, x_test_pred)"
   ]
  },
  {
   "cell_type": "markdown",
   "metadata": {},
   "source": [
    "(3) adaBoost"
   ]
  },
  {
   "cell_type": "code",
   "execution_count": 38,
   "metadata": {},
   "outputs": [
    {
     "data": {
      "text/plain": [
       "0.82768406429847197"
      ]
     },
     "execution_count": 38,
     "metadata": {},
     "output_type": "execute_result"
    }
   ],
   "source": [
    "x_test_pred = clf_ada.predict(x_test)\n",
    "accuracy_score(y_test, x_test_pred)"
   ]
  },
  {
   "cell_type": "markdown",
   "metadata": {},
   "source": [
    "(4) Random Forest"
   ]
  },
  {
   "cell_type": "code",
   "execution_count": 39,
   "metadata": {},
   "outputs": [
    {
     "data": {
      "text/plain": [
       "0.99845207382417145"
      ]
     },
     "execution_count": 39,
     "metadata": {},
     "output_type": "execute_result"
    }
   ],
   "source": [
    "x_test_pred = clf_rfc.predict(x_test)\n",
    "accuracy_score(y_test, x_test_pred)"
   ]
  },
  {
   "cell_type": "markdown",
   "metadata": {},
   "source": [
    "(5) Gaussian Naive Bayes"
   ]
  },
  {
   "cell_type": "code",
   "execution_count": 40,
   "metadata": {},
   "outputs": [
    {
     "data": {
      "text/plain": [
       "0.80619170470331414"
      ]
     },
     "execution_count": 40,
     "metadata": {},
     "output_type": "execute_result"
    }
   ],
   "source": [
    "x_test_pred = clf_gnb.predict(x_test)\n",
    "accuracy_score(y_test, x_test_pred)"
   ]
  },
  {
   "cell_type": "markdown",
   "metadata": {},
   "source": [
    "(6) KNN"
   ]
  },
  {
   "cell_type": "code",
   "execution_count": 41,
   "metadata": {},
   "outputs": [
    {
     "data": {
      "text/plain": [
       "0.99487993649533635"
      ]
     },
     "execution_count": 41,
     "metadata": {},
     "output_type": "execute_result"
    }
   ],
   "source": [
    "x_test_pred = clf_knn.predict(x_test)\n",
    "accuracy_score(y_test, x_test_pred)"
   ]
  },
  {
   "cell_type": "markdown",
   "metadata": {},
   "source": [
    "## 2.2. cross validation 해보기"
   ]
  },
  {
   "cell_type": "code",
   "execution_count": 42,
   "metadata": {
    "collapsed": true
   },
   "outputs": [],
   "source": [
    "from sklearn.model_selection import cross_val_score as cvs"
   ]
  },
  {
   "cell_type": "code",
   "execution_count": 43,
   "metadata": {
    "scrolled": true
   },
   "outputs": [
    {
     "name": "stdout",
     "output_type": "stream",
     "text": [
      "Tree Accuracy : 0.9977(+/- 0.00)\n"
     ]
    }
   ],
   "source": [
    "scores_dt = cvs(clf_tree, x, y, cv = 10)\n",
    "print(\"Tree Accuracy : %0.4f(+/- %0.2f)\" %(scores_dt.mean(), scores_dt.std() * 2))"
   ]
  },
  {
   "cell_type": "code",
   "execution_count": 44,
   "metadata": {},
   "outputs": [
    {
     "name": "stdout",
     "output_type": "stream",
     "text": [
      "MLP Accuracy : 0.9946(+/- 0.00)\n"
     ]
    }
   ],
   "source": [
    "scores_mlp = cvs(clf_mlp, x, y, cv = 10)\n",
    "print(\"MLP Accuracy : %0.4f(+/- %0.2f)\" %(scores_mlp.mean(), scores_mlp.std() * 2))"
   ]
  },
  {
   "cell_type": "code",
   "execution_count": 45,
   "metadata": {},
   "outputs": [
    {
     "name": "stdout",
     "output_type": "stream",
     "text": [
      "AdaBoost Accuracy : 0.8454(+/- 0.08)\n"
     ]
    }
   ],
   "source": [
    "scores_ada = cvs(clf_ada, x, y, cv = 10)\n",
    "print(\"AdaBoost Accuracy : %0.4f(+/- %0.2f)\" %(scores_ada.mean(), scores_ada.std() * 2))"
   ]
  },
  {
   "cell_type": "code",
   "execution_count": 46,
   "metadata": {},
   "outputs": [
    {
     "name": "stdout",
     "output_type": "stream",
     "text": [
      "Random Forest Accuracy : 0.9986(+/- 0.00)\n"
     ]
    }
   ],
   "source": [
    "scores_rfc = cvs(clf_rfc, x, y, cv = 10)\n",
    "print(\"Random Forest Accuracy : %0.4f(+/- %0.2f)\" %(scores_rfc.mean(), scores_rfc.std() * 2))"
   ]
  },
  {
   "cell_type": "code",
   "execution_count": 47,
   "metadata": {},
   "outputs": [
    {
     "name": "stdout",
     "output_type": "stream",
     "text": [
      "KNeighbors Accuracy : 0.9954(+/- 0.00)\n"
     ]
    }
   ],
   "source": [
    "scores_knn = cvs(clf_knn, x, y, cv = 10)\n",
    "print(\"KNeighbors Accuracy : %0.4f(+/- %0.2f)\" %(scores_knn.mean(), scores_knn.std() * 2))"
   ]
  },
  {
   "cell_type": "code",
   "execution_count": 48,
   "metadata": {},
   "outputs": [
    {
     "name": "stdout",
     "output_type": "stream",
     "text": [
      "Gaussian Naive Bayes Accuracy : 0.7975(+/- 0.01)\n"
     ]
    }
   ],
   "source": [
    "scores_gnb = cvs(clf_gnb, x, y, cv = 10)\n",
    "print(\"Gaussian Naive Bayes Accuracy : %0.4f(+/- %0.2f)\" %(scores_gnb.mean(), scores_gnb.std() * 2))"
   ]
  },
  {
   "cell_type": "markdown",
   "metadata": {},
   "source": [
    "## 2.3. graph 확인"
   ]
  },
  {
   "cell_type": "code",
   "execution_count": 49,
   "metadata": {
    "collapsed": true
   },
   "outputs": [],
   "source": [
    "from sklearn_evaluation import plot\n",
    "from sklearn.model_selection import learning_curve, validation_curve"
   ]
  },
  {
   "cell_type": "code",
   "execution_count": 50,
   "metadata": {
    "collapsed": true
   },
   "outputs": [],
   "source": [
    "%matplotlib inline"
   ]
  },
  {
   "cell_type": "markdown",
   "metadata": {},
   "source": [
    "(1) Tree"
   ]
  },
  {
   "cell_type": "code",
   "execution_count": 51,
   "metadata": {
    "collapsed": true
   },
   "outputs": [],
   "source": [
    "train_sizes, train_scores, test_scores = learning_curve(clf_tree, x, y)"
   ]
  },
  {
   "cell_type": "code",
   "execution_count": 52,
   "metadata": {},
   "outputs": [
    {
     "data": {
      "text/plain": [
       "<matplotlib.axes._subplots.AxesSubplot at 0x1bc28876860>"
      ]
     },
     "execution_count": 52,
     "metadata": {},
     "output_type": "execute_result"
    },
    {
     "data": {
      "image/png": "[encoded data removed]",
      "text/plain": [
       "<matplotlib.figure.Figure at 0x1bc2886d400>"
      ]
     },
     "metadata": {},
     "output_type": "display_data"
    }
   ],
   "source": [
    "plot.learning_curve(train_scores, test_scores, train_sizes)"
   ]
  },
  {
   "cell_type": "markdown",
   "metadata": {},
   "source": [
    "(2) MLP"
   ]
  },
  {
   "cell_type": "code",
   "execution_count": 53,
   "metadata": {
    "collapsed": true
   },
   "outputs": [],
   "source": [
    "train_sizes, train_scores, test_scores = learning_curve(clf_mlp, x, y)"
   ]
  },
  {
   "cell_type": "code",
   "execution_count": 54,
   "metadata": {},
   "outputs": [
    {
     "data": {
      "text/plain": [
       "<matplotlib.axes._subplots.AxesSubplot at 0x1bc28a8d550>"
      ]
     },
     "execution_count": 54,
     "metadata": {},
     "output_type": "execute_result"
    },
    {
     "data": {
      "image/png": "[encoded data removed]",
      "text/plain": [
       "<matplotlib.figure.Figure at 0x1bc28910f60>"
      ]
     },
     "metadata": {},
     "output_type": "display_data"
    }
   ],
   "source": [
    "plot.learning_curve(train_scores, test_scores, train_sizes)"
   ]
  },
  {
   "cell_type": "markdown",
   "metadata": {},
   "source": [
    "(3) adaBoost"
   ]
  },
  {
   "cell_type": "code",
   "execution_count": 55,
   "metadata": {
    "collapsed": true
   },
   "outputs": [],
   "source": [
    "train_sizes, train_scores, test_scores = learning_curve(clf_ada, x, y)"
   ]
  },
  {
   "cell_type": "code",
   "execution_count": 56,
   "metadata": {},
   "outputs": [
    {
     "data": {
      "text/plain": [
       "<matplotlib.axes._subplots.AxesSubplot at 0x1bc28b02e48>"
      ]
     },
     "execution_count": 56,
     "metadata": {},
     "output_type": "execute_result"
    },
    {
     "data": {
      "image/png": "[encoded data removed]",
      "text/plain": [
       "<matplotlib.figure.Figure at 0x1bc28aecac8>"
      ]
     },
     "metadata": {},
     "output_type": "display_data"
    }
   ],
   "source": [
    "plot.learning_curve(train_scores, test_scores, train_sizes)"
   ]
  },
  {
   "cell_type": "markdown",
   "metadata": {},
   "source": [
    "(4) Random Forest"
   ]
  },
  {
   "cell_type": "code",
   "execution_count": 57,
   "metadata": {},
   "outputs": [
    {
     "data": {
      "text/plain": [
       "<matplotlib.axes._subplots.AxesSubplot at 0x1bc2c6769e8>"
      ]
     },
     "execution_count": 57,
     "metadata": {},
     "output_type": "execute_result"
    },
    {
     "data": {
      "image/png": "[encoded data removed]",
      "text/plain": [
       "<matplotlib.figure.Figure at 0x1bc28b2c7f0>"
      ]
     },
     "metadata": {},
     "output_type": "display_data"
    }
   ],
   "source": [
    "train_sizes, train_scores, test_scores = learning_curve(clf_rfc, x, y)\n",
    "plot.learning_curve(train_scores, test_scores, train_sizes)"
   ]
  },
  {
   "cell_type": "markdown",
   "metadata": {},
   "source": [
    "(5) Gaussian Naive Bayes"
   ]
  },
  {
   "cell_type": "code",
   "execution_count": 58,
   "metadata": {},
   "outputs": [
    {
     "data": {
      "text/plain": [
       "<matplotlib.axes._subplots.AxesSubplot at 0x1bc2c6ea518>"
      ]
     },
     "execution_count": 58,
     "metadata": {},
     "output_type": "execute_result"
    },
    {
     "data": {
      "image/png": "[encoded data removed]",
      "text/plain": [
       "<matplotlib.figure.Figure at 0x1bc28b2cac8>"
      ]
     },
     "metadata": {},
     "output_type": "display_data"
    }
   ],
   "source": [
    "train_sizes, train_scores, test_scores = learning_curve(clf_gnb, x, y)\n",
    "plot.learning_curve(train_scores, test_scores, train_sizes)"
   ]
  },
  {
   "cell_type": "markdown",
   "metadata": {},
   "source": [
    "(6) KNN"
   ]
  },
  {
   "cell_type": "code",
   "execution_count": 59,
   "metadata": {},
   "outputs": [
    {
     "data": {
      "text/plain": [
       "<matplotlib.axes._subplots.AxesSubplot at 0x1bc2c7084a8>"
      ]
     },
     "execution_count": 59,
     "metadata": {},
     "output_type": "execute_result"
    },
    {
     "data": {
      "image/png": "[encoded data removed]",
      "text/plain": [
       "<matplotlib.figure.Figure at 0x1bc2c771128>"
      ]
     },
     "metadata": {},
     "output_type": "display_data"
    }
   ],
   "source": [
    "train_sizes, train_scores, test_scores = learning_curve(clf_knn, x, y)\n",
    "plot.learning_curve(train_scores, test_scores, train_sizes)"
   ]
  },
  {
   "cell_type": "markdown",
   "metadata": {},
   "source": [
    "## 2.4. 소결론"
   ]
  },
  {
   "cell_type": "markdown",
   "metadata": {},
   "source": [
    "adaBoost와 Naive Bayes를 제외한 classifier들이 다 95% 이상의 성능을 냈다. Overfit의 가능성이 있기 때문에, 또 distribution이 다른 dataset에서는 다른 성능을 낼 수도 있으므로, testset을 불러와서 이를 가지고 다시 성능 테스트를 해보기로 한다."
   ]
  },
  {
   "cell_type": "markdown",
   "metadata": {},
   "source": [
    "\n"
   ]
  },
  {
   "cell_type": "markdown",
   "metadata": {},
   "source": [
    "# 3. test data로 test해보기"
   ]
  },
  {
   "cell_type": "markdown",
   "metadata": {},
   "source": [
    "final model 제출 후 test할 data set과 같은 distribution을 가진 test_data.csv 데이터로 각 모델에 대한 accuracy를 측정해 보았다. 모두 두 번의 encoding을 거쳤으며, drop과 standardization을 모두 한 모델이다."
   ]
  },
  {
   "cell_type": "markdown",
   "metadata": {},
   "source": [
    "## 3.1. test data 불러오기"
   ]
  },
  {
   "cell_type": "code",
   "execution_count": 60,
   "metadata": {
    "collapsed": true
   },
   "outputs": [],
   "source": [
    "testdata = pd.read_csv('test_data.csv')"
   ]
  },
  {
   "cell_type": "code",
   "execution_count": 61,
   "metadata": {},
   "outputs": [
    {
     "data": {
      "text/html": [
       "<div>\n",
       "<style>\n",
       "    .dataframe thead tr:only-child th {\n",
       "        text-align: right;\n",
       "    }\n",
       "\n",
       "    .dataframe thead th {\n",
       "        text-align: left;\n",
       "    }\n",
       "\n",
       "    .dataframe tbody tr th {\n",
       "        vertical-align: top;\n",
       "    }\n",
       "</style>\n",
       "<table border=\"1\" class=\"dataframe\">\n",
       "  <thead>\n",
       "    <tr style=\"text-align: right;\">\n",
       "      <th></th>\n",
       "      <th>duration</th>\n",
       "      <th>protocol_type</th>\n",
       "      <th>service</th>\n",
       "      <th>flag</th>\n",
       "      <th>src_bytes</th>\n",
       "      <th>dst_bytes</th>\n",
       "      <th>land</th>\n",
       "      <th>wrong_fragment</th>\n",
       "      <th>urgent</th>\n",
       "      <th>hot</th>\n",
       "      <th>...</th>\n",
       "      <th>dst_host_srv_count</th>\n",
       "      <th>dst_host_same_srv_rate</th>\n",
       "      <th>dst_host_diff_srv_rate</th>\n",
       "      <th>dst_host_same_src_port_rate</th>\n",
       "      <th>dst_host_srv_diff_host_rate</th>\n",
       "      <th>dst_host_serror_rate</th>\n",
       "      <th>dst_host_srv_serror_rate</th>\n",
       "      <th>dst_host_rerror_rate</th>\n",
       "      <th>dst_host_srv_rerror_rate</th>\n",
       "      <th>xAttack</th>\n",
       "    </tr>\n",
       "  </thead>\n",
       "  <tbody>\n",
       "    <tr>\n",
       "      <th>0</th>\n",
       "      <td>0</td>\n",
       "      <td>icmp</td>\n",
       "      <td>25</td>\n",
       "      <td>4</td>\n",
       "      <td>0</td>\n",
       "      <td>0</td>\n",
       "      <td>0</td>\n",
       "      <td>0</td>\n",
       "      <td>0</td>\n",
       "      <td>0</td>\n",
       "      <td>...</td>\n",
       "      <td>255</td>\n",
       "      <td>1.00</td>\n",
       "      <td>0.00</td>\n",
       "      <td>0.00</td>\n",
       "      <td>0.00</td>\n",
       "      <td>0.65</td>\n",
       "      <td>0.65</td>\n",
       "      <td>0.32</td>\n",
       "      <td>0.32</td>\n",
       "      <td>dos</td>\n",
       "    </tr>\n",
       "    <tr>\n",
       "      <th>1</th>\n",
       "      <td>0</td>\n",
       "      <td>icmp</td>\n",
       "      <td>25</td>\n",
       "      <td>2</td>\n",
       "      <td>312</td>\n",
       "      <td>1856</td>\n",
       "      <td>0</td>\n",
       "      <td>0</td>\n",
       "      <td>0</td>\n",
       "      <td>0</td>\n",
       "      <td>...</td>\n",
       "      <td>254</td>\n",
       "      <td>1.00</td>\n",
       "      <td>0.00</td>\n",
       "      <td>1.00</td>\n",
       "      <td>0.06</td>\n",
       "      <td>0.00</td>\n",
       "      <td>0.00</td>\n",
       "      <td>0.00</td>\n",
       "      <td>0.00</td>\n",
       "      <td>normal</td>\n",
       "    </tr>\n",
       "    <tr>\n",
       "      <th>2</th>\n",
       "      <td>0</td>\n",
       "      <td>icmp</td>\n",
       "      <td>25</td>\n",
       "      <td>2</td>\n",
       "      <td>245</td>\n",
       "      <td>2058</td>\n",
       "      <td>0</td>\n",
       "      <td>0</td>\n",
       "      <td>0</td>\n",
       "      <td>0</td>\n",
       "      <td>...</td>\n",
       "      <td>255</td>\n",
       "      <td>1.00</td>\n",
       "      <td>0.00</td>\n",
       "      <td>0.01</td>\n",
       "      <td>0.05</td>\n",
       "      <td>0.01</td>\n",
       "      <td>0.00</td>\n",
       "      <td>0.00</td>\n",
       "      <td>0.00</td>\n",
       "      <td>normal</td>\n",
       "    </tr>\n",
       "    <tr>\n",
       "      <th>3</th>\n",
       "      <td>0</td>\n",
       "      <td>icmp</td>\n",
       "      <td>25</td>\n",
       "      <td>2</td>\n",
       "      <td>298</td>\n",
       "      <td>1267</td>\n",
       "      <td>0</td>\n",
       "      <td>0</td>\n",
       "      <td>0</td>\n",
       "      <td>0</td>\n",
       "      <td>...</td>\n",
       "      <td>255</td>\n",
       "      <td>1.00</td>\n",
       "      <td>0.00</td>\n",
       "      <td>0.00</td>\n",
       "      <td>0.00</td>\n",
       "      <td>0.00</td>\n",
       "      <td>0.00</td>\n",
       "      <td>0.00</td>\n",
       "      <td>0.00</td>\n",
       "      <td>normal</td>\n",
       "    </tr>\n",
       "    <tr>\n",
       "      <th>4</th>\n",
       "      <td>0</td>\n",
       "      <td>icmp</td>\n",
       "      <td>20</td>\n",
       "      <td>2</td>\n",
       "      <td>740</td>\n",
       "      <td>0</td>\n",
       "      <td>0</td>\n",
       "      <td>0</td>\n",
       "      <td>0</td>\n",
       "      <td>0</td>\n",
       "      <td>...</td>\n",
       "      <td>19</td>\n",
       "      <td>0.18</td>\n",
       "      <td>0.03</td>\n",
       "      <td>0.18</td>\n",
       "      <td>0.00</td>\n",
       "      <td>0.00</td>\n",
       "      <td>0.00</td>\n",
       "      <td>0.00</td>\n",
       "      <td>0.00</td>\n",
       "      <td>normal</td>\n",
       "    </tr>\n",
       "    <tr>\n",
       "      <th>5</th>\n",
       "      <td>0</td>\n",
       "      <td>icmp</td>\n",
       "      <td>25</td>\n",
       "      <td>2</td>\n",
       "      <td>304</td>\n",
       "      <td>16414</td>\n",
       "      <td>0</td>\n",
       "      <td>0</td>\n",
       "      <td>0</td>\n",
       "      <td>0</td>\n",
       "      <td>...</td>\n",
       "      <td>255</td>\n",
       "      <td>1.00</td>\n",
       "      <td>0.00</td>\n",
       "      <td>0.00</td>\n",
       "      <td>0.00</td>\n",
       "      <td>0.00</td>\n",
       "      <td>0.00</td>\n",
       "      <td>0.00</td>\n",
       "      <td>0.00</td>\n",
       "      <td>normal</td>\n",
       "    </tr>\n",
       "    <tr>\n",
       "      <th>6</th>\n",
       "      <td>0</td>\n",
       "      <td>icmp</td>\n",
       "      <td>29</td>\n",
       "      <td>3</td>\n",
       "      <td>0</td>\n",
       "      <td>44</td>\n",
       "      <td>0</td>\n",
       "      <td>0</td>\n",
       "      <td>0</td>\n",
       "      <td>0</td>\n",
       "      <td>...</td>\n",
       "      <td>54</td>\n",
       "      <td>0.21</td>\n",
       "      <td>0.02</td>\n",
       "      <td>0.00</td>\n",
       "      <td>0.00</td>\n",
       "      <td>0.00</td>\n",
       "      <td>0.00</td>\n",
       "      <td>0.78</td>\n",
       "      <td>0.98</td>\n",
       "      <td>probe</td>\n",
       "    </tr>\n",
       "    <tr>\n",
       "      <th>7</th>\n",
       "      <td>0</td>\n",
       "      <td>icmp</td>\n",
       "      <td>25</td>\n",
       "      <td>5</td>\n",
       "      <td>42340</td>\n",
       "      <td>7300</td>\n",
       "      <td>0</td>\n",
       "      <td>0</td>\n",
       "      <td>0</td>\n",
       "      <td>1</td>\n",
       "      <td>...</td>\n",
       "      <td>255</td>\n",
       "      <td>1.00</td>\n",
       "      <td>0.00</td>\n",
       "      <td>0.00</td>\n",
       "      <td>0.00</td>\n",
       "      <td>0.01</td>\n",
       "      <td>0.01</td>\n",
       "      <td>0.07</td>\n",
       "      <td>0.07</td>\n",
       "      <td>dos</td>\n",
       "    </tr>\n",
       "    <tr>\n",
       "      <th>8</th>\n",
       "      <td>4</td>\n",
       "      <td>icmp</td>\n",
       "      <td>48</td>\n",
       "      <td>2</td>\n",
       "      <td>32</td>\n",
       "      <td>93</td>\n",
       "      <td>0</td>\n",
       "      <td>0</td>\n",
       "      <td>0</td>\n",
       "      <td>0</td>\n",
       "      <td>...</td>\n",
       "      <td>124</td>\n",
       "      <td>0.87</td>\n",
       "      <td>0.02</td>\n",
       "      <td>0.01</td>\n",
       "      <td>0.02</td>\n",
       "      <td>0.00</td>\n",
       "      <td>0.00</td>\n",
       "      <td>0.07</td>\n",
       "      <td>0.00</td>\n",
       "      <td>r2l</td>\n",
       "    </tr>\n",
       "    <tr>\n",
       "      <th>9</th>\n",
       "      <td>0</td>\n",
       "      <td>icmp</td>\n",
       "      <td>25</td>\n",
       "      <td>2</td>\n",
       "      <td>249</td>\n",
       "      <td>5656</td>\n",
       "      <td>0</td>\n",
       "      <td>0</td>\n",
       "      <td>0</td>\n",
       "      <td>0</td>\n",
       "      <td>...</td>\n",
       "      <td>242</td>\n",
       "      <td>1.00</td>\n",
       "      <td>0.00</td>\n",
       "      <td>0.01</td>\n",
       "      <td>0.04</td>\n",
       "      <td>0.00</td>\n",
       "      <td>0.00</td>\n",
       "      <td>0.00</td>\n",
       "      <td>0.00</td>\n",
       "      <td>normal</td>\n",
       "    </tr>\n",
       "    <tr>\n",
       "      <th>10</th>\n",
       "      <td>0</td>\n",
       "      <td>icmp</td>\n",
       "      <td>50</td>\n",
       "      <td>1</td>\n",
       "      <td>0</td>\n",
       "      <td>0</td>\n",
       "      <td>0</td>\n",
       "      <td>0</td>\n",
       "      <td>0</td>\n",
       "      <td>0</td>\n",
       "      <td>...</td>\n",
       "      <td>11</td>\n",
       "      <td>0.04</td>\n",
       "      <td>0.08</td>\n",
       "      <td>0.00</td>\n",
       "      <td>0.00</td>\n",
       "      <td>0.00</td>\n",
       "      <td>0.00</td>\n",
       "      <td>1.00</td>\n",
       "      <td>1.00</td>\n",
       "      <td>dos</td>\n",
       "    </tr>\n",
       "    <tr>\n",
       "      <th>11</th>\n",
       "      <td>0</td>\n",
       "      <td>icmp</td>\n",
       "      <td>25</td>\n",
       "      <td>2</td>\n",
       "      <td>208</td>\n",
       "      <td>277</td>\n",
       "      <td>0</td>\n",
       "      <td>0</td>\n",
       "      <td>0</td>\n",
       "      <td>0</td>\n",
       "      <td>...</td>\n",
       "      <td>255</td>\n",
       "      <td>1.00</td>\n",
       "      <td>0.00</td>\n",
       "      <td>0.02</td>\n",
       "      <td>0.04</td>\n",
       "      <td>0.00</td>\n",
       "      <td>0.00</td>\n",
       "      <td>0.00</td>\n",
       "      <td>0.00</td>\n",
       "      <td>normal</td>\n",
       "    </tr>\n",
       "    <tr>\n",
       "      <th>12</th>\n",
       "      <td>0</td>\n",
       "      <td>icmp</td>\n",
       "      <td>25</td>\n",
       "      <td>2</td>\n",
       "      <td>225</td>\n",
       "      <td>1163</td>\n",
       "      <td>0</td>\n",
       "      <td>0</td>\n",
       "      <td>0</td>\n",
       "      <td>0</td>\n",
       "      <td>...</td>\n",
       "      <td>255</td>\n",
       "      <td>1.00</td>\n",
       "      <td>0.00</td>\n",
       "      <td>0.00</td>\n",
       "      <td>0.00</td>\n",
       "      <td>0.00</td>\n",
       "      <td>0.00</td>\n",
       "      <td>0.00</td>\n",
       "      <td>0.00</td>\n",
       "      <td>normal</td>\n",
       "    </tr>\n",
       "    <tr>\n",
       "      <th>13</th>\n",
       "      <td>7354</td>\n",
       "      <td>icmp</td>\n",
       "      <td>61</td>\n",
       "      <td>2</td>\n",
       "      <td>0</td>\n",
       "      <td>44</td>\n",
       "      <td>0</td>\n",
       "      <td>0</td>\n",
       "      <td>0</td>\n",
       "      <td>0</td>\n",
       "      <td>...</td>\n",
       "      <td>225</td>\n",
       "      <td>0.88</td>\n",
       "      <td>0.02</td>\n",
       "      <td>0.00</td>\n",
       "      <td>0.00</td>\n",
       "      <td>0.27</td>\n",
       "      <td>0.31</td>\n",
       "      <td>0.01</td>\n",
       "      <td>0.00</td>\n",
       "      <td>dos</td>\n",
       "    </tr>\n",
       "    <tr>\n",
       "      <th>14</th>\n",
       "      <td>0</td>\n",
       "      <td>icmp</td>\n",
       "      <td>50</td>\n",
       "      <td>4</td>\n",
       "      <td>0</td>\n",
       "      <td>0</td>\n",
       "      <td>0</td>\n",
       "      <td>0</td>\n",
       "      <td>0</td>\n",
       "      <td>0</td>\n",
       "      <td>...</td>\n",
       "      <td>15</td>\n",
       "      <td>0.06</td>\n",
       "      <td>0.07</td>\n",
       "      <td>0.00</td>\n",
       "      <td>0.00</td>\n",
       "      <td>1.00</td>\n",
       "      <td>1.00</td>\n",
       "      <td>0.00</td>\n",
       "      <td>0.00</td>\n",
       "      <td>dos</td>\n",
       "    </tr>\n",
       "    <tr>\n",
       "      <th>15</th>\n",
       "      <td>0</td>\n",
       "      <td>icmp</td>\n",
       "      <td>45</td>\n",
       "      <td>4</td>\n",
       "      <td>0</td>\n",
       "      <td>0</td>\n",
       "      <td>0</td>\n",
       "      <td>0</td>\n",
       "      <td>0</td>\n",
       "      <td>0</td>\n",
       "      <td>...</td>\n",
       "      <td>1</td>\n",
       "      <td>0.00</td>\n",
       "      <td>1.00</td>\n",
       "      <td>0.00</td>\n",
       "      <td>0.00</td>\n",
       "      <td>0.09</td>\n",
       "      <td>1.00</td>\n",
       "      <td>0.91</td>\n",
       "      <td>0.00</td>\n",
       "      <td>probe</td>\n",
       "    </tr>\n",
       "    <tr>\n",
       "      <th>16</th>\n",
       "      <td>0</td>\n",
       "      <td>icmp</td>\n",
       "      <td>25</td>\n",
       "      <td>2</td>\n",
       "      <td>227</td>\n",
       "      <td>1964</td>\n",
       "      <td>0</td>\n",
       "      <td>0</td>\n",
       "      <td>0</td>\n",
       "      <td>0</td>\n",
       "      <td>...</td>\n",
       "      <td>255</td>\n",
       "      <td>1.00</td>\n",
       "      <td>0.00</td>\n",
       "      <td>0.01</td>\n",
       "      <td>0.02</td>\n",
       "      <td>0.01</td>\n",
       "      <td>0.00</td>\n",
       "      <td>0.00</td>\n",
       "      <td>0.00</td>\n",
       "      <td>normal</td>\n",
       "    </tr>\n",
       "    <tr>\n",
       "      <th>17</th>\n",
       "      <td>0</td>\n",
       "      <td>udp</td>\n",
       "      <td>12</td>\n",
       "      <td>2</td>\n",
       "      <td>36</td>\n",
       "      <td>0</td>\n",
       "      <td>0</td>\n",
       "      <td>0</td>\n",
       "      <td>0</td>\n",
       "      <td>0</td>\n",
       "      <td>...</td>\n",
       "      <td>49</td>\n",
       "      <td>1.00</td>\n",
       "      <td>0.00</td>\n",
       "      <td>1.00</td>\n",
       "      <td>0.00</td>\n",
       "      <td>0.00</td>\n",
       "      <td>0.00</td>\n",
       "      <td>0.00</td>\n",
       "      <td>0.00</td>\n",
       "      <td>normal</td>\n",
       "    </tr>\n",
       "    <tr>\n",
       "      <th>18</th>\n",
       "      <td>280</td>\n",
       "      <td>icmp</td>\n",
       "      <td>20</td>\n",
       "      <td>2</td>\n",
       "      <td>283618</td>\n",
       "      <td>0</td>\n",
       "      <td>0</td>\n",
       "      <td>0</td>\n",
       "      <td>0</td>\n",
       "      <td>0</td>\n",
       "      <td>...</td>\n",
       "      <td>6</td>\n",
       "      <td>1.00</td>\n",
       "      <td>0.00</td>\n",
       "      <td>1.00</td>\n",
       "      <td>0.33</td>\n",
       "      <td>0.00</td>\n",
       "      <td>0.00</td>\n",
       "      <td>0.00</td>\n",
       "      <td>0.00</td>\n",
       "      <td>r2l</td>\n",
       "    </tr>\n",
       "    <tr>\n",
       "      <th>19</th>\n",
       "      <td>0</td>\n",
       "      <td>icmp</td>\n",
       "      <td>50</td>\n",
       "      <td>1</td>\n",
       "      <td>0</td>\n",
       "      <td>0</td>\n",
       "      <td>0</td>\n",
       "      <td>0</td>\n",
       "      <td>0</td>\n",
       "      <td>0</td>\n",
       "      <td>...</td>\n",
       "      <td>6</td>\n",
       "      <td>0.02</td>\n",
       "      <td>0.07</td>\n",
       "      <td>0.00</td>\n",
       "      <td>0.00</td>\n",
       "      <td>0.05</td>\n",
       "      <td>0.00</td>\n",
       "      <td>0.95</td>\n",
       "      <td>1.00</td>\n",
       "      <td>dos</td>\n",
       "    </tr>\n",
       "    <tr>\n",
       "      <th>20</th>\n",
       "      <td>0</td>\n",
       "      <td>icmp</td>\n",
       "      <td>50</td>\n",
       "      <td>4</td>\n",
       "      <td>0</td>\n",
       "      <td>0</td>\n",
       "      <td>0</td>\n",
       "      <td>0</td>\n",
       "      <td>0</td>\n",
       "      <td>0</td>\n",
       "      <td>...</td>\n",
       "      <td>5</td>\n",
       "      <td>0.02</td>\n",
       "      <td>0.06</td>\n",
       "      <td>0.00</td>\n",
       "      <td>0.00</td>\n",
       "      <td>1.00</td>\n",
       "      <td>1.00</td>\n",
       "      <td>0.00</td>\n",
       "      <td>0.00</td>\n",
       "      <td>dos</td>\n",
       "    </tr>\n",
       "    <tr>\n",
       "      <th>21</th>\n",
       "      <td>0</td>\n",
       "      <td>icmp</td>\n",
       "      <td>20</td>\n",
       "      <td>2</td>\n",
       "      <td>37</td>\n",
       "      <td>0</td>\n",
       "      <td>0</td>\n",
       "      <td>0</td>\n",
       "      <td>0</td>\n",
       "      <td>0</td>\n",
       "      <td>...</td>\n",
       "      <td>3</td>\n",
       "      <td>0.01</td>\n",
       "      <td>0.06</td>\n",
       "      <td>0.01</td>\n",
       "      <td>0.00</td>\n",
       "      <td>0.99</td>\n",
       "      <td>0.00</td>\n",
       "      <td>0.00</td>\n",
       "      <td>0.00</td>\n",
       "      <td>normal</td>\n",
       "    </tr>\n",
       "    <tr>\n",
       "      <th>22</th>\n",
       "      <td>284</td>\n",
       "      <td>icmp</td>\n",
       "      <td>20</td>\n",
       "      <td>2</td>\n",
       "      <td>152</td>\n",
       "      <td>591</td>\n",
       "      <td>0</td>\n",
       "      <td>0</td>\n",
       "      <td>0</td>\n",
       "      <td>2</td>\n",
       "      <td>...</td>\n",
       "      <td>17</td>\n",
       "      <td>0.07</td>\n",
       "      <td>0.94</td>\n",
       "      <td>0.00</td>\n",
       "      <td>0.00</td>\n",
       "      <td>0.00</td>\n",
       "      <td>0.00</td>\n",
       "      <td>0.93</td>\n",
       "      <td>0.00</td>\n",
       "      <td>r2l</td>\n",
       "    </tr>\n",
       "    <tr>\n",
       "      <th>23</th>\n",
       "      <td>0</td>\n",
       "      <td>udp</td>\n",
       "      <td>45</td>\n",
       "      <td>2</td>\n",
       "      <td>1</td>\n",
       "      <td>1</td>\n",
       "      <td>0</td>\n",
       "      <td>0</td>\n",
       "      <td>0</td>\n",
       "      <td>0</td>\n",
       "      <td>...</td>\n",
       "      <td>3</td>\n",
       "      <td>0.01</td>\n",
       "      <td>0.73</td>\n",
       "      <td>1.00</td>\n",
       "      <td>0.00</td>\n",
       "      <td>0.00</td>\n",
       "      <td>0.00</td>\n",
       "      <td>0.00</td>\n",
       "      <td>0.00</td>\n",
       "      <td>normal</td>\n",
       "    </tr>\n",
       "    <tr>\n",
       "      <th>24</th>\n",
       "      <td>0</td>\n",
       "      <td>icmp</td>\n",
       "      <td>25</td>\n",
       "      <td>2</td>\n",
       "      <td>180</td>\n",
       "      <td>2341</td>\n",
       "      <td>0</td>\n",
       "      <td>0</td>\n",
       "      <td>0</td>\n",
       "      <td>0</td>\n",
       "      <td>...</td>\n",
       "      <td>4</td>\n",
       "      <td>1.00</td>\n",
       "      <td>0.00</td>\n",
       "      <td>0.25</td>\n",
       "      <td>0.00</td>\n",
       "      <td>0.00</td>\n",
       "      <td>0.00</td>\n",
       "      <td>0.00</td>\n",
       "      <td>0.00</td>\n",
       "      <td>normal</td>\n",
       "    </tr>\n",
       "    <tr>\n",
       "      <th>25</th>\n",
       "      <td>0</td>\n",
       "      <td>icmp</td>\n",
       "      <td>25</td>\n",
       "      <td>4</td>\n",
       "      <td>0</td>\n",
       "      <td>0</td>\n",
       "      <td>0</td>\n",
       "      <td>0</td>\n",
       "      <td>0</td>\n",
       "      <td>0</td>\n",
       "      <td>...</td>\n",
       "      <td>245</td>\n",
       "      <td>0.96</td>\n",
       "      <td>0.01</td>\n",
       "      <td>0.00</td>\n",
       "      <td>0.00</td>\n",
       "      <td>0.18</td>\n",
       "      <td>0.19</td>\n",
       "      <td>0.56</td>\n",
       "      <td>0.59</td>\n",
       "      <td>dos</td>\n",
       "    </tr>\n",
       "    <tr>\n",
       "      <th>26</th>\n",
       "      <td>0</td>\n",
       "      <td>icmp</td>\n",
       "      <td>25</td>\n",
       "      <td>2</td>\n",
       "      <td>209</td>\n",
       "      <td>987</td>\n",
       "      <td>0</td>\n",
       "      <td>0</td>\n",
       "      <td>0</td>\n",
       "      <td>0</td>\n",
       "      <td>...</td>\n",
       "      <td>247</td>\n",
       "      <td>1.00</td>\n",
       "      <td>0.00</td>\n",
       "      <td>0.03</td>\n",
       "      <td>0.05</td>\n",
       "      <td>0.00</td>\n",
       "      <td>0.00</td>\n",
       "      <td>0.00</td>\n",
       "      <td>0.00</td>\n",
       "      <td>normal</td>\n",
       "    </tr>\n",
       "    <tr>\n",
       "      <th>27</th>\n",
       "      <td>0</td>\n",
       "      <td>icmp</td>\n",
       "      <td>45</td>\n",
       "      <td>4</td>\n",
       "      <td>0</td>\n",
       "      <td>0</td>\n",
       "      <td>0</td>\n",
       "      <td>0</td>\n",
       "      <td>0</td>\n",
       "      <td>0</td>\n",
       "      <td>...</td>\n",
       "      <td>1</td>\n",
       "      <td>0.00</td>\n",
       "      <td>0.91</td>\n",
       "      <td>0.00</td>\n",
       "      <td>0.00</td>\n",
       "      <td>0.17</td>\n",
       "      <td>1.00</td>\n",
       "      <td>0.83</td>\n",
       "      <td>0.00</td>\n",
       "      <td>probe</td>\n",
       "    </tr>\n",
       "    <tr>\n",
       "      <th>28</th>\n",
       "      <td>0</td>\n",
       "      <td>icmp</td>\n",
       "      <td>61</td>\n",
       "      <td>7</td>\n",
       "      <td>0</td>\n",
       "      <td>44</td>\n",
       "      <td>0</td>\n",
       "      <td>0</td>\n",
       "      <td>0</td>\n",
       "      <td>0</td>\n",
       "      <td>...</td>\n",
       "      <td>100</td>\n",
       "      <td>0.39</td>\n",
       "      <td>0.03</td>\n",
       "      <td>0.00</td>\n",
       "      <td>0.00</td>\n",
       "      <td>0.09</td>\n",
       "      <td>0.22</td>\n",
       "      <td>0.11</td>\n",
       "      <td>0.13</td>\n",
       "      <td>dos</td>\n",
       "    </tr>\n",
       "    <tr>\n",
       "      <th>29</th>\n",
       "      <td>0</td>\n",
       "      <td>icmp</td>\n",
       "      <td>25</td>\n",
       "      <td>2</td>\n",
       "      <td>301</td>\n",
       "      <td>1453</td>\n",
       "      <td>0</td>\n",
       "      <td>0</td>\n",
       "      <td>0</td>\n",
       "      <td>0</td>\n",
       "      <td>...</td>\n",
       "      <td>255</td>\n",
       "      <td>1.00</td>\n",
       "      <td>0.00</td>\n",
       "      <td>0.02</td>\n",
       "      <td>0.02</td>\n",
       "      <td>0.00</td>\n",
       "      <td>0.00</td>\n",
       "      <td>0.00</td>\n",
       "      <td>0.00</td>\n",
       "      <td>normal</td>\n",
       "    </tr>\n",
       "    <tr>\n",
       "      <th>...</th>\n",
       "      <td>...</td>\n",
       "      <td>...</td>\n",
       "      <td>...</td>\n",
       "      <td>...</td>\n",
       "      <td>...</td>\n",
       "      <td>...</td>\n",
       "      <td>...</td>\n",
       "      <td>...</td>\n",
       "      <td>...</td>\n",
       "      <td>...</td>\n",
       "      <td>...</td>\n",
       "      <td>...</td>\n",
       "      <td>...</td>\n",
       "      <td>...</td>\n",
       "      <td>...</td>\n",
       "      <td>...</td>\n",
       "      <td>...</td>\n",
       "      <td>...</td>\n",
       "      <td>...</td>\n",
       "      <td>...</td>\n",
       "      <td>...</td>\n",
       "    </tr>\n",
       "    <tr>\n",
       "      <th>9970</th>\n",
       "      <td>5</td>\n",
       "      <td>icmp</td>\n",
       "      <td>48</td>\n",
       "      <td>2</td>\n",
       "      <td>32</td>\n",
       "      <td>93</td>\n",
       "      <td>0</td>\n",
       "      <td>0</td>\n",
       "      <td>0</td>\n",
       "      <td>0</td>\n",
       "      <td>...</td>\n",
       "      <td>136</td>\n",
       "      <td>0.53</td>\n",
       "      <td>0.02</td>\n",
       "      <td>0.00</td>\n",
       "      <td>0.00</td>\n",
       "      <td>0.00</td>\n",
       "      <td>0.00</td>\n",
       "      <td>0.17</td>\n",
       "      <td>0.02</td>\n",
       "      <td>r2l</td>\n",
       "    </tr>\n",
       "    <tr>\n",
       "      <th>9971</th>\n",
       "      <td>282</td>\n",
       "      <td>icmp</td>\n",
       "      <td>20</td>\n",
       "      <td>2</td>\n",
       "      <td>154</td>\n",
       "      <td>591</td>\n",
       "      <td>0</td>\n",
       "      <td>0</td>\n",
       "      <td>0</td>\n",
       "      <td>2</td>\n",
       "      <td>...</td>\n",
       "      <td>16</td>\n",
       "      <td>0.84</td>\n",
       "      <td>0.11</td>\n",
       "      <td>0.05</td>\n",
       "      <td>0.00</td>\n",
       "      <td>0.00</td>\n",
       "      <td>0.00</td>\n",
       "      <td>0.00</td>\n",
       "      <td>0.00</td>\n",
       "      <td>r2l</td>\n",
       "    </tr>\n",
       "    <tr>\n",
       "      <th>9972</th>\n",
       "      <td>802</td>\n",
       "      <td>icmp</td>\n",
       "      <td>25</td>\n",
       "      <td>5</td>\n",
       "      <td>73024</td>\n",
       "      <td>0</td>\n",
       "      <td>0</td>\n",
       "      <td>0</td>\n",
       "      <td>0</td>\n",
       "      <td>0</td>\n",
       "      <td>...</td>\n",
       "      <td>253</td>\n",
       "      <td>0.99</td>\n",
       "      <td>0.01</td>\n",
       "      <td>0.00</td>\n",
       "      <td>0.00</td>\n",
       "      <td>0.01</td>\n",
       "      <td>0.01</td>\n",
       "      <td>0.54</td>\n",
       "      <td>0.54</td>\n",
       "      <td>dos</td>\n",
       "    </tr>\n",
       "    <tr>\n",
       "      <th>9973</th>\n",
       "      <td>0</td>\n",
       "      <td>udp</td>\n",
       "      <td>50</td>\n",
       "      <td>2</td>\n",
       "      <td>1</td>\n",
       "      <td>1</td>\n",
       "      <td>0</td>\n",
       "      <td>0</td>\n",
       "      <td>0</td>\n",
       "      <td>0</td>\n",
       "      <td>...</td>\n",
       "      <td>1</td>\n",
       "      <td>0.00</td>\n",
       "      <td>0.57</td>\n",
       "      <td>0.99</td>\n",
       "      <td>0.00</td>\n",
       "      <td>0.00</td>\n",
       "      <td>0.00</td>\n",
       "      <td>0.01</td>\n",
       "      <td>0.00</td>\n",
       "      <td>probe</td>\n",
       "    </tr>\n",
       "    <tr>\n",
       "      <th>9974</th>\n",
       "      <td>0</td>\n",
       "      <td>icmp</td>\n",
       "      <td>25</td>\n",
       "      <td>2</td>\n",
       "      <td>256</td>\n",
       "      <td>31903</td>\n",
       "      <td>0</td>\n",
       "      <td>0</td>\n",
       "      <td>0</td>\n",
       "      <td>0</td>\n",
       "      <td>...</td>\n",
       "      <td>255</td>\n",
       "      <td>1.00</td>\n",
       "      <td>0.00</td>\n",
       "      <td>0.01</td>\n",
       "      <td>0.05</td>\n",
       "      <td>0.00</td>\n",
       "      <td>0.00</td>\n",
       "      <td>0.00</td>\n",
       "      <td>0.00</td>\n",
       "      <td>normal</td>\n",
       "    </tr>\n",
       "    <tr>\n",
       "      <th>9975</th>\n",
       "      <td>0</td>\n",
       "      <td>icmp</td>\n",
       "      <td>45</td>\n",
       "      <td>1</td>\n",
       "      <td>0</td>\n",
       "      <td>0</td>\n",
       "      <td>0</td>\n",
       "      <td>0</td>\n",
       "      <td>0</td>\n",
       "      <td>0</td>\n",
       "      <td>...</td>\n",
       "      <td>1</td>\n",
       "      <td>0.00</td>\n",
       "      <td>1.00</td>\n",
       "      <td>0.00</td>\n",
       "      <td>0.00</td>\n",
       "      <td>0.05</td>\n",
       "      <td>0.00</td>\n",
       "      <td>0.95</td>\n",
       "      <td>1.00</td>\n",
       "      <td>probe</td>\n",
       "    </tr>\n",
       "    <tr>\n",
       "      <th>9976</th>\n",
       "      <td>0</td>\n",
       "      <td>icmp</td>\n",
       "      <td>25</td>\n",
       "      <td>4</td>\n",
       "      <td>0</td>\n",
       "      <td>0</td>\n",
       "      <td>0</td>\n",
       "      <td>0</td>\n",
       "      <td>0</td>\n",
       "      <td>0</td>\n",
       "      <td>...</td>\n",
       "      <td>255</td>\n",
       "      <td>1.00</td>\n",
       "      <td>0.00</td>\n",
       "      <td>0.00</td>\n",
       "      <td>0.00</td>\n",
       "      <td>0.01</td>\n",
       "      <td>0.01</td>\n",
       "      <td>0.58</td>\n",
       "      <td>0.58</td>\n",
       "      <td>dos</td>\n",
       "    </tr>\n",
       "    <tr>\n",
       "      <th>9977</th>\n",
       "      <td>0</td>\n",
       "      <td>icmp</td>\n",
       "      <td>58</td>\n",
       "      <td>1</td>\n",
       "      <td>0</td>\n",
       "      <td>0</td>\n",
       "      <td>0</td>\n",
       "      <td>0</td>\n",
       "      <td>0</td>\n",
       "      <td>0</td>\n",
       "      <td>...</td>\n",
       "      <td>21</td>\n",
       "      <td>0.08</td>\n",
       "      <td>0.03</td>\n",
       "      <td>0.00</td>\n",
       "      <td>0.00</td>\n",
       "      <td>0.00</td>\n",
       "      <td>0.00</td>\n",
       "      <td>0.45</td>\n",
       "      <td>1.00</td>\n",
       "      <td>probe</td>\n",
       "    </tr>\n",
       "    <tr>\n",
       "      <th>9978</th>\n",
       "      <td>283</td>\n",
       "      <td>icmp</td>\n",
       "      <td>20</td>\n",
       "      <td>2</td>\n",
       "      <td>162</td>\n",
       "      <td>599</td>\n",
       "      <td>0</td>\n",
       "      <td>0</td>\n",
       "      <td>0</td>\n",
       "      <td>2</td>\n",
       "      <td>...</td>\n",
       "      <td>72</td>\n",
       "      <td>0.33</td>\n",
       "      <td>0.03</td>\n",
       "      <td>0.00</td>\n",
       "      <td>0.00</td>\n",
       "      <td>0.00</td>\n",
       "      <td>0.00</td>\n",
       "      <td>0.00</td>\n",
       "      <td>0.00</td>\n",
       "      <td>r2l</td>\n",
       "    </tr>\n",
       "    <tr>\n",
       "      <th>9979</th>\n",
       "      <td>0</td>\n",
       "      <td>icmp</td>\n",
       "      <td>50</td>\n",
       "      <td>1</td>\n",
       "      <td>0</td>\n",
       "      <td>0</td>\n",
       "      <td>0</td>\n",
       "      <td>0</td>\n",
       "      <td>0</td>\n",
       "      <td>0</td>\n",
       "      <td>...</td>\n",
       "      <td>17</td>\n",
       "      <td>0.07</td>\n",
       "      <td>0.06</td>\n",
       "      <td>0.00</td>\n",
       "      <td>0.00</td>\n",
       "      <td>0.00</td>\n",
       "      <td>0.00</td>\n",
       "      <td>1.00</td>\n",
       "      <td>1.00</td>\n",
       "      <td>dos</td>\n",
       "    </tr>\n",
       "    <tr>\n",
       "      <th>9980</th>\n",
       "      <td>0</td>\n",
       "      <td>icmp</td>\n",
       "      <td>50</td>\n",
       "      <td>4</td>\n",
       "      <td>0</td>\n",
       "      <td>0</td>\n",
       "      <td>0</td>\n",
       "      <td>0</td>\n",
       "      <td>0</td>\n",
       "      <td>0</td>\n",
       "      <td>...</td>\n",
       "      <td>6</td>\n",
       "      <td>0.02</td>\n",
       "      <td>0.07</td>\n",
       "      <td>0.00</td>\n",
       "      <td>0.00</td>\n",
       "      <td>1.00</td>\n",
       "      <td>1.00</td>\n",
       "      <td>0.00</td>\n",
       "      <td>0.00</td>\n",
       "      <td>dos</td>\n",
       "    </tr>\n",
       "    <tr>\n",
       "      <th>9981</th>\n",
       "      <td>0</td>\n",
       "      <td>icmp</td>\n",
       "      <td>35</td>\n",
       "      <td>4</td>\n",
       "      <td>0</td>\n",
       "      <td>0</td>\n",
       "      <td>0</td>\n",
       "      <td>0</td>\n",
       "      <td>0</td>\n",
       "      <td>0</td>\n",
       "      <td>...</td>\n",
       "      <td>1</td>\n",
       "      <td>0.00</td>\n",
       "      <td>0.17</td>\n",
       "      <td>0.00</td>\n",
       "      <td>0.00</td>\n",
       "      <td>1.00</td>\n",
       "      <td>1.00</td>\n",
       "      <td>0.00</td>\n",
       "      <td>0.00</td>\n",
       "      <td>dos</td>\n",
       "    </tr>\n",
       "    <tr>\n",
       "      <th>9982</th>\n",
       "      <td>0</td>\n",
       "      <td>udp</td>\n",
       "      <td>50</td>\n",
       "      <td>2</td>\n",
       "      <td>47</td>\n",
       "      <td>0</td>\n",
       "      <td>0</td>\n",
       "      <td>0</td>\n",
       "      <td>0</td>\n",
       "      <td>0</td>\n",
       "      <td>...</td>\n",
       "      <td>255</td>\n",
       "      <td>1.00</td>\n",
       "      <td>0.00</td>\n",
       "      <td>0.01</td>\n",
       "      <td>0.00</td>\n",
       "      <td>0.00</td>\n",
       "      <td>0.00</td>\n",
       "      <td>0.00</td>\n",
       "      <td>0.00</td>\n",
       "      <td>r2l</td>\n",
       "    </tr>\n",
       "    <tr>\n",
       "      <th>9983</th>\n",
       "      <td>0</td>\n",
       "      <td>udp</td>\n",
       "      <td>50</td>\n",
       "      <td>2</td>\n",
       "      <td>47</td>\n",
       "      <td>0</td>\n",
       "      <td>0</td>\n",
       "      <td>0</td>\n",
       "      <td>0</td>\n",
       "      <td>0</td>\n",
       "      <td>...</td>\n",
       "      <td>255</td>\n",
       "      <td>1.00</td>\n",
       "      <td>0.00</td>\n",
       "      <td>0.00</td>\n",
       "      <td>0.00</td>\n",
       "      <td>0.00</td>\n",
       "      <td>0.00</td>\n",
       "      <td>0.00</td>\n",
       "      <td>0.00</td>\n",
       "      <td>r2l</td>\n",
       "    </tr>\n",
       "    <tr>\n",
       "      <th>9984</th>\n",
       "      <td>0</td>\n",
       "      <td>icmp</td>\n",
       "      <td>50</td>\n",
       "      <td>5</td>\n",
       "      <td>0</td>\n",
       "      <td>0</td>\n",
       "      <td>0</td>\n",
       "      <td>0</td>\n",
       "      <td>0</td>\n",
       "      <td>0</td>\n",
       "      <td>...</td>\n",
       "      <td>1</td>\n",
       "      <td>0.00</td>\n",
       "      <td>0.68</td>\n",
       "      <td>0.67</td>\n",
       "      <td>0.00</td>\n",
       "      <td>0.00</td>\n",
       "      <td>0.00</td>\n",
       "      <td>0.69</td>\n",
       "      <td>1.00</td>\n",
       "      <td>probe</td>\n",
       "    </tr>\n",
       "    <tr>\n",
       "      <th>9985</th>\n",
       "      <td>0</td>\n",
       "      <td>icmp</td>\n",
       "      <td>50</td>\n",
       "      <td>1</td>\n",
       "      <td>0</td>\n",
       "      <td>0</td>\n",
       "      <td>0</td>\n",
       "      <td>0</td>\n",
       "      <td>0</td>\n",
       "      <td>0</td>\n",
       "      <td>...</td>\n",
       "      <td>1</td>\n",
       "      <td>0.00</td>\n",
       "      <td>0.96</td>\n",
       "      <td>0.00</td>\n",
       "      <td>0.00</td>\n",
       "      <td>0.07</td>\n",
       "      <td>0.00</td>\n",
       "      <td>0.88</td>\n",
       "      <td>1.00</td>\n",
       "      <td>probe</td>\n",
       "    </tr>\n",
       "    <tr>\n",
       "      <th>9986</th>\n",
       "      <td>0</td>\n",
       "      <td>tcp</td>\n",
       "      <td>16</td>\n",
       "      <td>2</td>\n",
       "      <td>1032</td>\n",
       "      <td>0</td>\n",
       "      <td>0</td>\n",
       "      <td>0</td>\n",
       "      <td>0</td>\n",
       "      <td>0</td>\n",
       "      <td>...</td>\n",
       "      <td>129</td>\n",
       "      <td>0.99</td>\n",
       "      <td>0.02</td>\n",
       "      <td>0.99</td>\n",
       "      <td>0.00</td>\n",
       "      <td>0.00</td>\n",
       "      <td>0.00</td>\n",
       "      <td>0.00</td>\n",
       "      <td>0.00</td>\n",
       "      <td>dos</td>\n",
       "    </tr>\n",
       "    <tr>\n",
       "      <th>9987</th>\n",
       "      <td>0</td>\n",
       "      <td>icmp</td>\n",
       "      <td>50</td>\n",
       "      <td>4</td>\n",
       "      <td>0</td>\n",
       "      <td>0</td>\n",
       "      <td>0</td>\n",
       "      <td>0</td>\n",
       "      <td>0</td>\n",
       "      <td>0</td>\n",
       "      <td>...</td>\n",
       "      <td>4</td>\n",
       "      <td>0.02</td>\n",
       "      <td>0.09</td>\n",
       "      <td>0.00</td>\n",
       "      <td>0.00</td>\n",
       "      <td>1.00</td>\n",
       "      <td>1.00</td>\n",
       "      <td>0.00</td>\n",
       "      <td>0.00</td>\n",
       "      <td>dos</td>\n",
       "    </tr>\n",
       "    <tr>\n",
       "      <th>9988</th>\n",
       "      <td>0</td>\n",
       "      <td>icmp</td>\n",
       "      <td>33</td>\n",
       "      <td>1</td>\n",
       "      <td>0</td>\n",
       "      <td>0</td>\n",
       "      <td>0</td>\n",
       "      <td>0</td>\n",
       "      <td>0</td>\n",
       "      <td>0</td>\n",
       "      <td>...</td>\n",
       "      <td>1</td>\n",
       "      <td>0.00</td>\n",
       "      <td>0.06</td>\n",
       "      <td>0.00</td>\n",
       "      <td>0.00</td>\n",
       "      <td>0.00</td>\n",
       "      <td>0.00</td>\n",
       "      <td>1.00</td>\n",
       "      <td>1.00</td>\n",
       "      <td>dos</td>\n",
       "    </tr>\n",
       "    <tr>\n",
       "      <th>9989</th>\n",
       "      <td>0</td>\n",
       "      <td>icmp</td>\n",
       "      <td>6</td>\n",
       "      <td>4</td>\n",
       "      <td>0</td>\n",
       "      <td>0</td>\n",
       "      <td>0</td>\n",
       "      <td>0</td>\n",
       "      <td>0</td>\n",
       "      <td>0</td>\n",
       "      <td>...</td>\n",
       "      <td>9</td>\n",
       "      <td>0.04</td>\n",
       "      <td>0.07</td>\n",
       "      <td>0.00</td>\n",
       "      <td>0.00</td>\n",
       "      <td>1.00</td>\n",
       "      <td>1.00</td>\n",
       "      <td>0.00</td>\n",
       "      <td>0.00</td>\n",
       "      <td>dos</td>\n",
       "    </tr>\n",
       "    <tr>\n",
       "      <th>9990</th>\n",
       "      <td>4</td>\n",
       "      <td>icmp</td>\n",
       "      <td>48</td>\n",
       "      <td>2</td>\n",
       "      <td>30</td>\n",
       "      <td>93</td>\n",
       "      <td>0</td>\n",
       "      <td>0</td>\n",
       "      <td>0</td>\n",
       "      <td>0</td>\n",
       "      <td>...</td>\n",
       "      <td>247</td>\n",
       "      <td>0.97</td>\n",
       "      <td>0.02</td>\n",
       "      <td>0.00</td>\n",
       "      <td>0.00</td>\n",
       "      <td>0.00</td>\n",
       "      <td>0.00</td>\n",
       "      <td>0.00</td>\n",
       "      <td>0.00</td>\n",
       "      <td>r2l</td>\n",
       "    </tr>\n",
       "    <tr>\n",
       "      <th>9991</th>\n",
       "      <td>94</td>\n",
       "      <td>icmp</td>\n",
       "      <td>25</td>\n",
       "      <td>2</td>\n",
       "      <td>1040</td>\n",
       "      <td>224</td>\n",
       "      <td>0</td>\n",
       "      <td>0</td>\n",
       "      <td>0</td>\n",
       "      <td>1</td>\n",
       "      <td>...</td>\n",
       "      <td>251</td>\n",
       "      <td>0.98</td>\n",
       "      <td>0.01</td>\n",
       "      <td>0.00</td>\n",
       "      <td>0.00</td>\n",
       "      <td>0.00</td>\n",
       "      <td>0.00</td>\n",
       "      <td>0.00</td>\n",
       "      <td>0.00</td>\n",
       "      <td>normal</td>\n",
       "    </tr>\n",
       "    <tr>\n",
       "      <th>9992</th>\n",
       "      <td>0</td>\n",
       "      <td>icmp</td>\n",
       "      <td>19</td>\n",
       "      <td>4</td>\n",
       "      <td>0</td>\n",
       "      <td>0</td>\n",
       "      <td>0</td>\n",
       "      <td>0</td>\n",
       "      <td>0</td>\n",
       "      <td>0</td>\n",
       "      <td>...</td>\n",
       "      <td>5</td>\n",
       "      <td>0.02</td>\n",
       "      <td>0.08</td>\n",
       "      <td>0.00</td>\n",
       "      <td>0.00</td>\n",
       "      <td>1.00</td>\n",
       "      <td>1.00</td>\n",
       "      <td>0.00</td>\n",
       "      <td>0.00</td>\n",
       "      <td>dos</td>\n",
       "    </tr>\n",
       "    <tr>\n",
       "      <th>9993</th>\n",
       "      <td>0</td>\n",
       "      <td>tcp</td>\n",
       "      <td>15</td>\n",
       "      <td>2</td>\n",
       "      <td>40008</td>\n",
       "      <td>0</td>\n",
       "      <td>0</td>\n",
       "      <td>0</td>\n",
       "      <td>0</td>\n",
       "      <td>0</td>\n",
       "      <td>...</td>\n",
       "      <td>145</td>\n",
       "      <td>0.18</td>\n",
       "      <td>0.04</td>\n",
       "      <td>0.18</td>\n",
       "      <td>0.43</td>\n",
       "      <td>0.00</td>\n",
       "      <td>0.00</td>\n",
       "      <td>0.02</td>\n",
       "      <td>0.00</td>\n",
       "      <td>normal</td>\n",
       "    </tr>\n",
       "    <tr>\n",
       "      <th>9994</th>\n",
       "      <td>0</td>\n",
       "      <td>icmp</td>\n",
       "      <td>25</td>\n",
       "      <td>2</td>\n",
       "      <td>258</td>\n",
       "      <td>7557</td>\n",
       "      <td>0</td>\n",
       "      <td>0</td>\n",
       "      <td>0</td>\n",
       "      <td>0</td>\n",
       "      <td>...</td>\n",
       "      <td>255</td>\n",
       "      <td>1.00</td>\n",
       "      <td>0.00</td>\n",
       "      <td>0.02</td>\n",
       "      <td>0.04</td>\n",
       "      <td>0.00</td>\n",
       "      <td>0.00</td>\n",
       "      <td>0.00</td>\n",
       "      <td>0.00</td>\n",
       "      <td>normal</td>\n",
       "    </tr>\n",
       "    <tr>\n",
       "      <th>9995</th>\n",
       "      <td>0</td>\n",
       "      <td>icmp</td>\n",
       "      <td>25</td>\n",
       "      <td>2</td>\n",
       "      <td>315</td>\n",
       "      <td>2537</td>\n",
       "      <td>0</td>\n",
       "      <td>0</td>\n",
       "      <td>0</td>\n",
       "      <td>0</td>\n",
       "      <td>...</td>\n",
       "      <td>255</td>\n",
       "      <td>1.00</td>\n",
       "      <td>0.00</td>\n",
       "      <td>0.00</td>\n",
       "      <td>0.00</td>\n",
       "      <td>0.00</td>\n",
       "      <td>0.00</td>\n",
       "      <td>0.00</td>\n",
       "      <td>0.00</td>\n",
       "      <td>normal</td>\n",
       "    </tr>\n",
       "    <tr>\n",
       "      <th>9996</th>\n",
       "      <td>0</td>\n",
       "      <td>icmp</td>\n",
       "      <td>25</td>\n",
       "      <td>2</td>\n",
       "      <td>238</td>\n",
       "      <td>6882</td>\n",
       "      <td>0</td>\n",
       "      <td>0</td>\n",
       "      <td>0</td>\n",
       "      <td>0</td>\n",
       "      <td>...</td>\n",
       "      <td>253</td>\n",
       "      <td>1.00</td>\n",
       "      <td>0.00</td>\n",
       "      <td>0.14</td>\n",
       "      <td>0.05</td>\n",
       "      <td>0.00</td>\n",
       "      <td>0.00</td>\n",
       "      <td>0.00</td>\n",
       "      <td>0.00</td>\n",
       "      <td>normal</td>\n",
       "    </tr>\n",
       "    <tr>\n",
       "      <th>9997</th>\n",
       "      <td>0</td>\n",
       "      <td>udp</td>\n",
       "      <td>50</td>\n",
       "      <td>2</td>\n",
       "      <td>54</td>\n",
       "      <td>55</td>\n",
       "      <td>0</td>\n",
       "      <td>0</td>\n",
       "      <td>0</td>\n",
       "      <td>0</td>\n",
       "      <td>...</td>\n",
       "      <td>254</td>\n",
       "      <td>1.00</td>\n",
       "      <td>0.01</td>\n",
       "      <td>0.81</td>\n",
       "      <td>0.00</td>\n",
       "      <td>0.00</td>\n",
       "      <td>0.00</td>\n",
       "      <td>0.00</td>\n",
       "      <td>0.00</td>\n",
       "      <td>normal</td>\n",
       "    </tr>\n",
       "    <tr>\n",
       "      <th>9998</th>\n",
       "      <td>0</td>\n",
       "      <td>icmp</td>\n",
       "      <td>25</td>\n",
       "      <td>2</td>\n",
       "      <td>228</td>\n",
       "      <td>5210</td>\n",
       "      <td>0</td>\n",
       "      <td>0</td>\n",
       "      <td>0</td>\n",
       "      <td>0</td>\n",
       "      <td>...</td>\n",
       "      <td>255</td>\n",
       "      <td>1.00</td>\n",
       "      <td>0.00</td>\n",
       "      <td>0.01</td>\n",
       "      <td>0.04</td>\n",
       "      <td>0.00</td>\n",
       "      <td>0.00</td>\n",
       "      <td>0.00</td>\n",
       "      <td>0.00</td>\n",
       "      <td>normal</td>\n",
       "    </tr>\n",
       "    <tr>\n",
       "      <th>9999</th>\n",
       "      <td>282</td>\n",
       "      <td>icmp</td>\n",
       "      <td>20</td>\n",
       "      <td>2</td>\n",
       "      <td>160</td>\n",
       "      <td>597</td>\n",
       "      <td>0</td>\n",
       "      <td>0</td>\n",
       "      <td>0</td>\n",
       "      <td>2</td>\n",
       "      <td>...</td>\n",
       "      <td>14</td>\n",
       "      <td>0.05</td>\n",
       "      <td>0.84</td>\n",
       "      <td>0.00</td>\n",
       "      <td>0.00</td>\n",
       "      <td>0.00</td>\n",
       "      <td>0.00</td>\n",
       "      <td>0.82</td>\n",
       "      <td>0.00</td>\n",
       "      <td>r2l</td>\n",
       "    </tr>\n",
       "  </tbody>\n",
       "</table>\n",
       "<p>10000 rows × 42 columns</p>\n",
       "</div>"
      ],
      "text/plain": [
       "      duration protocol_type  service  flag  src_bytes  dst_bytes  land  \\\n",
       "0            0          icmp       25     4          0          0     0   \n",
       "1            0          icmp       25     2        312       1856     0   \n",
       "2            0          icmp       25     2        245       2058     0   \n",
       "3            0          icmp       25     2        298       1267     0   \n",
       "4            0          icmp       20     2        740          0     0   \n",
       "5            0          icmp       25     2        304      16414     0   \n",
       "6            0          icmp       29     3          0         44     0   \n",
       "7            0          icmp       25     5      42340       7300     0   \n",
       "8            4          icmp       48     2         32         93     0   \n",
       "9            0          icmp       25     2        249       5656     0   \n",
       "10           0          icmp       50     1          0          0     0   \n",
       "11           0          icmp       25     2        208        277     0   \n",
       "12           0          icmp       25     2        225       1163     0   \n",
       "13        7354          icmp       61     2          0         44     0   \n",
       "14           0          icmp       50     4          0          0     0   \n",
       "15           0          icmp       45     4          0          0     0   \n",
       "16           0          icmp       25     2        227       1964     0   \n",
       "17           0           udp       12     2         36          0     0   \n",
       "18         280          icmp       20     2     283618          0     0   \n",
       "19           0          icmp       50     1          0          0     0   \n",
       "20           0          icmp       50     4          0          0     0   \n",
       "21           0          icmp       20     2         37          0     0   \n",
       "22         284          icmp       20     2        152        591     0   \n",
       "23           0           udp       45     2          1          1     0   \n",
       "24           0          icmp       25     2        180       2341     0   \n",
       "25           0          icmp       25     4          0          0     0   \n",
       "26           0          icmp       25     2        209        987     0   \n",
       "27           0          icmp       45     4          0          0     0   \n",
       "28           0          icmp       61     7          0         44     0   \n",
       "29           0          icmp       25     2        301       1453     0   \n",
       "...        ...           ...      ...   ...        ...        ...   ...   \n",
       "9970         5          icmp       48     2         32         93     0   \n",
       "9971       282          icmp       20     2        154        591     0   \n",
       "9972       802          icmp       25     5      73024          0     0   \n",
       "9973         0           udp       50     2          1          1     0   \n",
       "9974         0          icmp       25     2        256      31903     0   \n",
       "9975         0          icmp       45     1          0          0     0   \n",
       "9976         0          icmp       25     4          0          0     0   \n",
       "9977         0          icmp       58     1          0          0     0   \n",
       "9978       283          icmp       20     2        162        599     0   \n",
       "9979         0          icmp       50     1          0          0     0   \n",
       "9980         0          icmp       50     4          0          0     0   \n",
       "9981         0          icmp       35     4          0          0     0   \n",
       "9982         0           udp       50     2         47          0     0   \n",
       "9983         0           udp       50     2         47          0     0   \n",
       "9984         0          icmp       50     5          0          0     0   \n",
       "9985         0          icmp       50     1          0          0     0   \n",
       "9986         0           tcp       16     2       1032          0     0   \n",
       "9987         0          icmp       50     4          0          0     0   \n",
       "9988         0          icmp       33     1          0          0     0   \n",
       "9989         0          icmp        6     4          0          0     0   \n",
       "9990         4          icmp       48     2         30         93     0   \n",
       "9991        94          icmp       25     2       1040        224     0   \n",
       "9992         0          icmp       19     4          0          0     0   \n",
       "9993         0           tcp       15     2      40008          0     0   \n",
       "9994         0          icmp       25     2        258       7557     0   \n",
       "9995         0          icmp       25     2        315       2537     0   \n",
       "9996         0          icmp       25     2        238       6882     0   \n",
       "9997         0           udp       50     2         54         55     0   \n",
       "9998         0          icmp       25     2        228       5210     0   \n",
       "9999       282          icmp       20     2        160        597     0   \n",
       "\n",
       "      wrong_fragment  urgent  hot   ...     dst_host_srv_count  \\\n",
       "0                  0       0    0   ...                    255   \n",
       "1                  0       0    0   ...                    254   \n",
       "2                  0       0    0   ...                    255   \n",
       "3                  0       0    0   ...                    255   \n",
       "4                  0       0    0   ...                     19   \n",
       "5                  0       0    0   ...                    255   \n",
       "6                  0       0    0   ...                     54   \n",
       "7                  0       0    1   ...                    255   \n",
       "8                  0       0    0   ...                    124   \n",
       "9                  0       0    0   ...                    242   \n",
       "10                 0       0    0   ...                     11   \n",
       "11                 0       0    0   ...                    255   \n",
       "12                 0       0    0   ...                    255   \n",
       "13                 0       0    0   ...                    225   \n",
       "14                 0       0    0   ...                     15   \n",
       "15                 0       0    0   ...                      1   \n",
       "16                 0       0    0   ...                    255   \n",
       "17                 0       0    0   ...                     49   \n",
       "18                 0       0    0   ...                      6   \n",
       "19                 0       0    0   ...                      6   \n",
       "20                 0       0    0   ...                      5   \n",
       "21                 0       0    0   ...                      3   \n",
       "22                 0       0    2   ...                     17   \n",
       "23                 0       0    0   ...                      3   \n",
       "24                 0       0    0   ...                      4   \n",
       "25                 0       0    0   ...                    245   \n",
       "26                 0       0    0   ...                    247   \n",
       "27                 0       0    0   ...                      1   \n",
       "28                 0       0    0   ...                    100   \n",
       "29                 0       0    0   ...                    255   \n",
       "...              ...     ...  ...   ...                    ...   \n",
       "9970               0       0    0   ...                    136   \n",
       "9971               0       0    2   ...                     16   \n",
       "9972               0       0    0   ...                    253   \n",
       "9973               0       0    0   ...                      1   \n",
       "9974               0       0    0   ...                    255   \n",
       "9975               0       0    0   ...                      1   \n",
       "9976               0       0    0   ...                    255   \n",
       "9977               0       0    0   ...                     21   \n",
       "9978               0       0    2   ...                     72   \n",
       "9979               0       0    0   ...                     17   \n",
       "9980               0       0    0   ...                      6   \n",
       "9981               0       0    0   ...                      1   \n",
       "9982               0       0    0   ...                    255   \n",
       "9983               0       0    0   ...                    255   \n",
       "9984               0       0    0   ...                      1   \n",
       "9985               0       0    0   ...                      1   \n",
       "9986               0       0    0   ...                    129   \n",
       "9987               0       0    0   ...                      4   \n",
       "9988               0       0    0   ...                      1   \n",
       "9989               0       0    0   ...                      9   \n",
       "9990               0       0    0   ...                    247   \n",
       "9991               0       0    1   ...                    251   \n",
       "9992               0       0    0   ...                      5   \n",
       "9993               0       0    0   ...                    145   \n",
       "9994               0       0    0   ...                    255   \n",
       "9995               0       0    0   ...                    255   \n",
       "9996               0       0    0   ...                    253   \n",
       "9997               0       0    0   ...                    254   \n",
       "9998               0       0    0   ...                    255   \n",
       "9999               0       0    2   ...                     14   \n",
       "\n",
       "      dst_host_same_srv_rate  dst_host_diff_srv_rate  \\\n",
       "0                       1.00                    0.00   \n",
       "1                       1.00                    0.00   \n",
       "2                       1.00                    0.00   \n",
       "3                       1.00                    0.00   \n",
       "4                       0.18                    0.03   \n",
       "5                       1.00                    0.00   \n",
       "6                       0.21                    0.02   \n",
       "7                       1.00                    0.00   \n",
       "8                       0.87                    0.02   \n",
       "9                       1.00                    0.00   \n",
       "10                      0.04                    0.08   \n",
       "11                      1.00                    0.00   \n",
       "12                      1.00                    0.00   \n",
       "13                      0.88                    0.02   \n",
       "14                      0.06                    0.07   \n",
       "15                      0.00                    1.00   \n",
       "16                      1.00                    0.00   \n",
       "17                      1.00                    0.00   \n",
       "18                      1.00                    0.00   \n",
       "19                      0.02                    0.07   \n",
       "20                      0.02                    0.06   \n",
       "21                      0.01                    0.06   \n",
       "22                      0.07                    0.94   \n",
       "23                      0.01                    0.73   \n",
       "24                      1.00                    0.00   \n",
       "25                      0.96                    0.01   \n",
       "26                      1.00                    0.00   \n",
       "27                      0.00                    0.91   \n",
       "28                      0.39                    0.03   \n",
       "29                      1.00                    0.00   \n",
       "...                      ...                     ...   \n",
       "9970                    0.53                    0.02   \n",
       "9971                    0.84                    0.11   \n",
       "9972                    0.99                    0.01   \n",
       "9973                    0.00                    0.57   \n",
       "9974                    1.00                    0.00   \n",
       "9975                    0.00                    1.00   \n",
       "9976                    1.00                    0.00   \n",
       "9977                    0.08                    0.03   \n",
       "9978                    0.33                    0.03   \n",
       "9979                    0.07                    0.06   \n",
       "9980                    0.02                    0.07   \n",
       "9981                    0.00                    0.17   \n",
       "9982                    1.00                    0.00   \n",
       "9983                    1.00                    0.00   \n",
       "9984                    0.00                    0.68   \n",
       "9985                    0.00                    0.96   \n",
       "9986                    0.99                    0.02   \n",
       "9987                    0.02                    0.09   \n",
       "9988                    0.00                    0.06   \n",
       "9989                    0.04                    0.07   \n",
       "9990                    0.97                    0.02   \n",
       "9991                    0.98                    0.01   \n",
       "9992                    0.02                    0.08   \n",
       "9993                    0.18                    0.04   \n",
       "9994                    1.00                    0.00   \n",
       "9995                    1.00                    0.00   \n",
       "9996                    1.00                    0.00   \n",
       "9997                    1.00                    0.01   \n",
       "9998                    1.00                    0.00   \n",
       "9999                    0.05                    0.84   \n",
       "\n",
       "      dst_host_same_src_port_rate  dst_host_srv_diff_host_rate  \\\n",
       "0                            0.00                         0.00   \n",
       "1                            1.00                         0.06   \n",
       "2                            0.01                         0.05   \n",
       "3                            0.00                         0.00   \n",
       "4                            0.18                         0.00   \n",
       "5                            0.00                         0.00   \n",
       "6                            0.00                         0.00   \n",
       "7                            0.00                         0.00   \n",
       "8                            0.01                         0.02   \n",
       "9                            0.01                         0.04   \n",
       "10                           0.00                         0.00   \n",
       "11                           0.02                         0.04   \n",
       "12                           0.00                         0.00   \n",
       "13                           0.00                         0.00   \n",
       "14                           0.00                         0.00   \n",
       "15                           0.00                         0.00   \n",
       "16                           0.01                         0.02   \n",
       "17                           1.00                         0.00   \n",
       "18                           1.00                         0.33   \n",
       "19                           0.00                         0.00   \n",
       "20                           0.00                         0.00   \n",
       "21                           0.01                         0.00   \n",
       "22                           0.00                         0.00   \n",
       "23                           1.00                         0.00   \n",
       "24                           0.25                         0.00   \n",
       "25                           0.00                         0.00   \n",
       "26                           0.03                         0.05   \n",
       "27                           0.00                         0.00   \n",
       "28                           0.00                         0.00   \n",
       "29                           0.02                         0.02   \n",
       "...                           ...                          ...   \n",
       "9970                         0.00                         0.00   \n",
       "9971                         0.05                         0.00   \n",
       "9972                         0.00                         0.00   \n",
       "9973                         0.99                         0.00   \n",
       "9974                         0.01                         0.05   \n",
       "9975                         0.00                         0.00   \n",
       "9976                         0.00                         0.00   \n",
       "9977                         0.00                         0.00   \n",
       "9978                         0.00                         0.00   \n",
       "9979                         0.00                         0.00   \n",
       "9980                         0.00                         0.00   \n",
       "9981                         0.00                         0.00   \n",
       "9982                         0.01                         0.00   \n",
       "9983                         0.00                         0.00   \n",
       "9984                         0.67                         0.00   \n",
       "9985                         0.00                         0.00   \n",
       "9986                         0.99                         0.00   \n",
       "9987                         0.00                         0.00   \n",
       "9988                         0.00                         0.00   \n",
       "9989                         0.00                         0.00   \n",
       "9990                         0.00                         0.00   \n",
       "9991                         0.00                         0.00   \n",
       "9992                         0.00                         0.00   \n",
       "9993                         0.18                         0.43   \n",
       "9994                         0.02                         0.04   \n",
       "9995                         0.00                         0.00   \n",
       "9996                         0.14                         0.05   \n",
       "9997                         0.81                         0.00   \n",
       "9998                         0.01                         0.04   \n",
       "9999                         0.00                         0.00   \n",
       "\n",
       "      dst_host_serror_rate  dst_host_srv_serror_rate  dst_host_rerror_rate  \\\n",
       "0                     0.65                      0.65                  0.32   \n",
       "1                     0.00                      0.00                  0.00   \n",
       "2                     0.01                      0.00                  0.00   \n",
       "3                     0.00                      0.00                  0.00   \n",
       "4                     0.00                      0.00                  0.00   \n",
       "5                     0.00                      0.00                  0.00   \n",
       "6                     0.00                      0.00                  0.78   \n",
       "7                     0.01                      0.01                  0.07   \n",
       "8                     0.00                      0.00                  0.07   \n",
       "9                     0.00                      0.00                  0.00   \n",
       "10                    0.00                      0.00                  1.00   \n",
       "11                    0.00                      0.00                  0.00   \n",
       "12                    0.00                      0.00                  0.00   \n",
       "13                    0.27                      0.31                  0.01   \n",
       "14                    1.00                      1.00                  0.00   \n",
       "15                    0.09                      1.00                  0.91   \n",
       "16                    0.01                      0.00                  0.00   \n",
       "17                    0.00                      0.00                  0.00   \n",
       "18                    0.00                      0.00                  0.00   \n",
       "19                    0.05                      0.00                  0.95   \n",
       "20                    1.00                      1.00                  0.00   \n",
       "21                    0.99                      0.00                  0.00   \n",
       "22                    0.00                      0.00                  0.93   \n",
       "23                    0.00                      0.00                  0.00   \n",
       "24                    0.00                      0.00                  0.00   \n",
       "25                    0.18                      0.19                  0.56   \n",
       "26                    0.00                      0.00                  0.00   \n",
       "27                    0.17                      1.00                  0.83   \n",
       "28                    0.09                      0.22                  0.11   \n",
       "29                    0.00                      0.00                  0.00   \n",
       "...                    ...                       ...                   ...   \n",
       "9970                  0.00                      0.00                  0.17   \n",
       "9971                  0.00                      0.00                  0.00   \n",
       "9972                  0.01                      0.01                  0.54   \n",
       "9973                  0.00                      0.00                  0.01   \n",
       "9974                  0.00                      0.00                  0.00   \n",
       "9975                  0.05                      0.00                  0.95   \n",
       "9976                  0.01                      0.01                  0.58   \n",
       "9977                  0.00                      0.00                  0.45   \n",
       "9978                  0.00                      0.00                  0.00   \n",
       "9979                  0.00                      0.00                  1.00   \n",
       "9980                  1.00                      1.00                  0.00   \n",
       "9981                  1.00                      1.00                  0.00   \n",
       "9982                  0.00                      0.00                  0.00   \n",
       "9983                  0.00                      0.00                  0.00   \n",
       "9984                  0.00                      0.00                  0.69   \n",
       "9985                  0.07                      0.00                  0.88   \n",
       "9986                  0.00                      0.00                  0.00   \n",
       "9987                  1.00                      1.00                  0.00   \n",
       "9988                  0.00                      0.00                  1.00   \n",
       "9989                  1.00                      1.00                  0.00   \n",
       "9990                  0.00                      0.00                  0.00   \n",
       "9991                  0.00                      0.00                  0.00   \n",
       "9992                  1.00                      1.00                  0.00   \n",
       "9993                  0.00                      0.00                  0.02   \n",
       "9994                  0.00                      0.00                  0.00   \n",
       "9995                  0.00                      0.00                  0.00   \n",
       "9996                  0.00                      0.00                  0.00   \n",
       "9997                  0.00                      0.00                  0.00   \n",
       "9998                  0.00                      0.00                  0.00   \n",
       "9999                  0.00                      0.00                  0.82   \n",
       "\n",
       "      dst_host_srv_rerror_rate  xAttack  \n",
       "0                         0.32      dos  \n",
       "1                         0.00   normal  \n",
       "2                         0.00   normal  \n",
       "3                         0.00   normal  \n",
       "4                         0.00   normal  \n",
       "5                         0.00   normal  \n",
       "6                         0.98    probe  \n",
       "7                         0.07      dos  \n",
       "8                         0.00      r2l  \n",
       "9                         0.00   normal  \n",
       "10                        1.00      dos  \n",
       "11                        0.00   normal  \n",
       "12                        0.00   normal  \n",
       "13                        0.00      dos  \n",
       "14                        0.00      dos  \n",
       "15                        0.00    probe  \n",
       "16                        0.00   normal  \n",
       "17                        0.00   normal  \n",
       "18                        0.00      r2l  \n",
       "19                        1.00      dos  \n",
       "20                        0.00      dos  \n",
       "21                        0.00   normal  \n",
       "22                        0.00      r2l  \n",
       "23                        0.00   normal  \n",
       "24                        0.00   normal  \n",
       "25                        0.59      dos  \n",
       "26                        0.00   normal  \n",
       "27                        0.00    probe  \n",
       "28                        0.13      dos  \n",
       "29                        0.00   normal  \n",
       "...                        ...      ...  \n",
       "9970                      0.02      r2l  \n",
       "9971                      0.00      r2l  \n",
       "9972                      0.54      dos  \n",
       "9973                      0.00    probe  \n",
       "9974                      0.00   normal  \n",
       "9975                      1.00    probe  \n",
       "9976                      0.58      dos  \n",
       "9977                      1.00    probe  \n",
       "9978                      0.00      r2l  \n",
       "9979                      1.00      dos  \n",
       "9980                      0.00      dos  \n",
       "9981                      0.00      dos  \n",
       "9982                      0.00      r2l  \n",
       "9983                      0.00      r2l  \n",
       "9984                      1.00    probe  \n",
       "9985                      1.00    probe  \n",
       "9986                      0.00      dos  \n",
       "9987                      0.00      dos  \n",
       "9988                      1.00      dos  \n",
       "9989                      0.00      dos  \n",
       "9990                      0.00      r2l  \n",
       "9991                      0.00   normal  \n",
       "9992                      0.00      dos  \n",
       "9993                      0.00   normal  \n",
       "9994                      0.00   normal  \n",
       "9995                      0.00   normal  \n",
       "9996                      0.00   normal  \n",
       "9997                      0.00   normal  \n",
       "9998                      0.00   normal  \n",
       "9999                      0.00      r2l  \n",
       "\n",
       "[10000 rows x 42 columns]"
      ]
     },
     "execution_count": 61,
     "metadata": {},
     "output_type": "execute_result"
    }
   ],
   "source": [
    "testdata"
   ]
  },
  {
   "cell_type": "markdown",
   "metadata": {},
   "source": [
    "## 3.2. test data encoding, divide into x&y, feature selection"
   ]
  },
  {
   "cell_type": "code",
   "execution_count": 62,
   "metadata": {
    "collapsed": true
   },
   "outputs": [],
   "source": [
    "testdata.protocol_type = le.fit_transform(testdata.protocol_type)"
   ]
  },
  {
   "cell_type": "code",
   "execution_count": 63,
   "metadata": {
    "collapsed": true
   },
   "outputs": [],
   "source": [
    "testdata.protocol_type = ohe.fit_transform(testdata.protocol_type.values.reshape(-1, 1)).toarray()"
   ]
  },
  {
   "cell_type": "code",
   "execution_count": 64,
   "metadata": {
    "collapsed": true
   },
   "outputs": [],
   "source": [
    "testdata_x = testdata.iloc[:,:-1]\n",
    "testdata_y = testdata.loc[:,'xAttack']"
   ]
  },
  {
   "cell_type": "code",
   "execution_count": 65,
   "metadata": {
    "collapsed": true
   },
   "outputs": [],
   "source": [
    "testdata_x = testdata_x.drop('num_outbound_cmds', axis=1)\n",
    "testdata_x = testdata_x.drop('is_host_login', axis=1)\n",
    "testdata_x = testdata_x.drop('root_shell', axis=1)\n",
    "testdata_x = testdata_x.drop('su_attempted', axis=1)\n",
    "testdata_x = testdata_x.drop('num_root', axis=1)\n",
    "testdata_x = testdata_x.drop('num_file_creations', axis=1)\n",
    "testdata_x = testdata_x.drop('num_access_files', axis=1)\n",
    "testdata_x = testdata_x.drop('is_guest_login', axis=1)\n",
    "testdata_x = testdata_x.drop('urgent',axis=1)\n",
    "testdata_x = testdata_x.drop('land', axis=1)\n",
    "testdata_x = testdata_x.drop('wrong_fragment', axis = 1)\n",
    "testdata_x = testdata_x.drop('num_failed_logins', axis=1)\n",
    "testdata_x = testdata_x.drop('num_compromised', axis=1)\n",
    "testdata_x = testdata_x.drop('num_shells', axis=1)"
   ]
  },
  {
   "cell_type": "code",
   "execution_count": 66,
   "metadata": {},
   "outputs": [
    {
     "data": {
      "text/plain": [
       "array([[ -1.10249223e-01,   4.76175266e-01,  -4.30450094e-01, ...,\n",
       "          8.33616103e-01,   6.56219511e-01,   6.25309214e-01],\n",
       "       [ -1.10249223e-01,   4.76175266e-01,  -4.30450094e-01, ...,\n",
       "         -6.24870800e-01,  -3.87634624e-01,  -3.76387026e-01],\n",
       "       [ -1.10249223e-01,   4.76175266e-01,  -4.30450094e-01, ...,\n",
       "         -6.24870800e-01,  -3.87634624e-01,  -3.76387026e-01],\n",
       "       ..., \n",
       "       [ -1.10249223e-01,  -2.10006708e+00,   1.08815201e+00, ...,\n",
       "         -6.24870800e-01,  -3.87634624e-01,  -3.76387026e-01],\n",
       "       [ -1.10249223e-01,   4.76175266e-01,  -4.30450094e-01, ...,\n",
       "         -6.24870800e-01,  -3.87634624e-01,  -3.76387026e-01],\n",
       "       [ -1.97528901e-03,   4.76175266e-01,  -7.34170514e-01, ...,\n",
       "         -6.24870800e-01,   2.28724160e+00,  -3.76387026e-01]])"
      ]
     },
     "execution_count": 66,
     "metadata": {},
     "output_type": "execute_result"
    }
   ],
   "source": [
    "scaler.transform(testdata_x)"
   ]
  },
  {
   "cell_type": "markdown",
   "metadata": {},
   "source": [
    "## 3.3. 각종 algorithm으로 test해보기"
   ]
  },
  {
   "cell_type": "markdown",
   "metadata": {},
   "source": [
    "training은 training dataset의 x와 y 즉 전체 training dataset을 가지고 했으며, evaluation은 위에서 말한대로, test_data.csv로 했다. Accuracy측정 후에는 confusion_matrix를 그려본다"
   ]
  },
  {
   "cell_type": "code",
   "execution_count": 226,
   "metadata": {},
   "outputs": [
    {
     "name": "stdout",
     "output_type": "stream",
     "text": [
      "Requirement already satisfied: sklearn_evaluation in c:\\users\\frank\\anaconda3\\lib\\site-packages\n",
      "Requirement already satisfied: decorator in c:\\users\\frank\\anaconda3\\lib\\site-packages (from sklearn_evaluation)\n",
      "Requirement already satisfied: matplotlib in c:\\users\\frank\\anaconda3\\lib\\site-packages (from sklearn_evaluation)\n",
      "Requirement already satisfied: six in c:\\users\\frank\\anaconda3\\lib\\site-packages (from sklearn_evaluation)\n",
      "Requirement already satisfied: scikit-learn in c:\\users\\frank\\anaconda3\\lib\\site-packages (from sklearn_evaluation)\n",
      "Requirement already satisfied: numpy>=1.7.1 in c:\\users\\frank\\anaconda3\\lib\\site-packages (from matplotlib->sklearn_evaluation)\n",
      "Requirement already satisfied: python-dateutil>=2.0 in c:\\users\\frank\\anaconda3\\lib\\site-packages (from matplotlib->sklearn_evaluation)\n",
      "Requirement already satisfied: pytz in c:\\users\\frank\\anaconda3\\lib\\site-packages (from matplotlib->sklearn_evaluation)\n",
      "Requirement already satisfied: cycler>=0.10 in c:\\users\\frank\\anaconda3\\lib\\site-packages (from matplotlib->sklearn_evaluation)\n",
      "Requirement already satisfied: pyparsing!=2.0.4,!=2.1.2,!=2.1.6,>=2.0.1 in c:\\users\\frank\\anaconda3\\lib\\site-packages (from matplotlib->sklearn_evaluation)\n"
     ]
    }
   ],
   "source": [
    "!pip install sklearn_evaluation"
   ]
  },
  {
   "cell_type": "code",
   "execution_count": 67,
   "metadata": {
    "collapsed": true
   },
   "outputs": [],
   "source": [
    "from sklearn.metrics import confusion_matrix"
   ]
  },
  {
   "cell_type": "code",
   "execution_count": 68,
   "metadata": {
    "collapsed": true
   },
   "outputs": [],
   "source": [
    "import matplotlib.pyplot as plt"
   ]
  },
  {
   "cell_type": "markdown",
   "metadata": {},
   "source": [
    "(1) tree"
   ]
  },
  {
   "cell_type": "code",
   "execution_count": 69,
   "metadata": {
    "collapsed": true
   },
   "outputs": [],
   "source": [
    "model_dt = clf_tree.fit(x,y)"
   ]
  },
  {
   "cell_type": "code",
   "execution_count": 70,
   "metadata": {
    "collapsed": true
   },
   "outputs": [],
   "source": [
    "dt_pred = model_dt.predict(testdata_x)"
   ]
  },
  {
   "cell_type": "code",
   "execution_count": 71,
   "metadata": {},
   "outputs": [
    {
     "data": {
      "text/plain": [
       "0.38290000000000002"
      ]
     },
     "execution_count": 71,
     "metadata": {},
     "output_type": "execute_result"
    }
   ],
   "source": [
    "accuracy_score(testdata_y, dt_pred)"
   ]
  },
  {
   "cell_type": "code",
   "execution_count": 72,
   "metadata": {},
   "outputs": [
    {
     "data": {
      "image/png": "[encoded data removed]",
      "text/plain": [
       "<matplotlib.figure.Figure at 0x1bc26e3a2e8>"
      ]
     },
     "metadata": {},
     "output_type": "display_data"
    }
   ],
   "source": [
    "plot.confusion_matrix(testdata_y, dt_pred)\n",
    "plt.show()"
   ]
  },
  {
   "cell_type": "markdown",
   "metadata": {},
   "source": [
    "normal이나 r2l은 잘 맞추고 있지만 dos엔 취약한 모습을 보인다. 전체적인 성능이 낮다"
   ]
  },
  {
   "cell_type": "markdown",
   "metadata": {},
   "source": [
    "(2) mlp "
   ]
  },
  {
   "cell_type": "code",
   "execution_count": 73,
   "metadata": {
    "collapsed": true
   },
   "outputs": [],
   "source": [
    "model_mlp = clf_mlp.fit(x,y)"
   ]
  },
  {
   "cell_type": "code",
   "execution_count": 74,
   "metadata": {
    "collapsed": true
   },
   "outputs": [],
   "source": [
    "mlp_pred = model_mlp.predict(testdata_x)"
   ]
  },
  {
   "cell_type": "code",
   "execution_count": 75,
   "metadata": {},
   "outputs": [
    {
     "data": {
      "text/plain": [
       "0.21160000000000001"
      ]
     },
     "execution_count": 75,
     "metadata": {},
     "output_type": "execute_result"
    }
   ],
   "source": [
    "accuracy_score(testdata_y, mlp_pred)"
   ]
  },
  {
   "cell_type": "code",
   "execution_count": 76,
   "metadata": {},
   "outputs": [
    {
     "data": {
      "image/png": "[encoded data removed]",
      "text/plain": [
       "<matplotlib.figure.Figure at 0x1bc2f8ab208>"
      ]
     },
     "metadata": {},
     "output_type": "display_data"
    }
   ],
   "source": [
    "plot.confusion_matrix(testdata_y, mlp_pred)\n",
    "plt.show()"
   ]
  },
  {
   "cell_type": "markdown",
   "metadata": {},
   "source": [
    "mlp는 probe을 어느정도 맞춰내고 있지만 normal 과 dos에 대한 성능이 좋지 않다. 그리고 tree에 비해서 dos와 probe로 판단하는 양이 많고, 오히려 가장 데이터 수가 많은 normal로 판단하는 경우가 상대적으로 적다. "
   ]
  },
  {
   "cell_type": "markdown",
   "metadata": {},
   "source": [
    "(3) naive bayes"
   ]
  },
  {
   "cell_type": "code",
   "execution_count": 77,
   "metadata": {
    "collapsed": true
   },
   "outputs": [],
   "source": [
    "model_gnb = clf_gnb.fit(x, y)"
   ]
  },
  {
   "cell_type": "code",
   "execution_count": 78,
   "metadata": {
    "collapsed": true
   },
   "outputs": [],
   "source": [
    "gnb_pred = model_gnb.predict(testdata_x)"
   ]
  },
  {
   "cell_type": "code",
   "execution_count": 79,
   "metadata": {},
   "outputs": [
    {
     "data": {
      "text/plain": [
       "0.089899999999999994"
      ]
     },
     "execution_count": 79,
     "metadata": {},
     "output_type": "execute_result"
    }
   ],
   "source": [
    "accuracy_score(testdata_y, gnb_pred)"
   ]
  },
  {
   "cell_type": "code",
   "execution_count": 80,
   "metadata": {},
   "outputs": [
    {
     "data": {
      "image/png": "[encoded data removed]",
      "text/plain": [
       "<matplotlib.figure.Figure at 0x1bc32757358>"
      ]
     },
     "metadata": {},
     "output_type": "display_data"
    }
   ],
   "source": [
    "plot.confusion_matrix(testdata_y, gnb_pred)\n",
    "plt.show()"
   ]
  },
  {
   "cell_type": "markdown",
   "metadata": {},
   "source": [
    "(4) Random Forest"
   ]
  },
  {
   "cell_type": "code",
   "execution_count": 81,
   "metadata": {
    "collapsed": true
   },
   "outputs": [],
   "source": [
    "model_rf = clf_rfc.fit(x,y)"
   ]
  },
  {
   "cell_type": "code",
   "execution_count": 82,
   "metadata": {
    "collapsed": true
   },
   "outputs": [],
   "source": [
    "rfc_pred = model_rfc.predict(testdata_x)"
   ]
  },
  {
   "cell_type": "code",
   "execution_count": 83,
   "metadata": {},
   "outputs": [
    {
     "data": {
      "text/plain": [
       "0.46589999999999998"
      ]
     },
     "execution_count": 83,
     "metadata": {},
     "output_type": "execute_result"
    }
   ],
   "source": [
    "accuracy_score(testdata_y, rfc_pred)"
   ]
  },
  {
   "cell_type": "code",
   "execution_count": 84,
   "metadata": {},
   "outputs": [
    {
     "data": {
      "image/png": "[encoded data removed]",
      "text/plain": [
       "<matplotlib.figure.Figure at 0x1bc32823e48>"
      ]
     },
     "metadata": {},
     "output_type": "display_data"
    }
   ],
   "source": [
    "plot.confusion_matrix(testdata_y, rfc_pred)\n",
    "plt.show()"
   ]
  },
  {
   "cell_type": "markdown",
   "metadata": {},
   "source": [
    "random forest는 dos와 normal에만 치중하는 모습이 보인다. 하지만 전체적인 성능은 나쁘지 않다."
   ]
  },
  {
   "cell_type": "markdown",
   "metadata": {},
   "source": [
    "(5) adaBoost"
   ]
  },
  {
   "cell_type": "code",
   "execution_count": 85,
   "metadata": {
    "collapsed": true
   },
   "outputs": [],
   "source": [
    "model_ada = clf_ada.fit(x,y)"
   ]
  },
  {
   "cell_type": "code",
   "execution_count": 86,
   "metadata": {
    "collapsed": true
   },
   "outputs": [],
   "source": [
    "ada_pred = model_ada.predict(testdata_x)"
   ]
  },
  {
   "cell_type": "code",
   "execution_count": 87,
   "metadata": {},
   "outputs": [
    {
     "data": {
      "text/plain": [
       "0.49730000000000002"
      ]
     },
     "execution_count": 87,
     "metadata": {},
     "output_type": "execute_result"
    }
   ],
   "source": [
    "accuracy_score(testdata_y, ada_pred)"
   ]
  },
  {
   "cell_type": "code",
   "execution_count": 88,
   "metadata": {},
   "outputs": [
    {
     "data": {
      "image/png": "[encoded data removed]",
      "text/plain": [
       "<matplotlib.figure.Figure at 0x1bc328f5470>"
      ]
     },
     "metadata": {},
     "output_type": "display_data"
    }
   ],
   "source": [
    "plot.confusion_matrix(testdata_y, ada_pred)\n",
    "plt.show()"
   ]
  },
  {
   "cell_type": "markdown",
   "metadata": {},
   "source": [
    "dos와 normal에 대해서 높은 성능을 내고 있지만, 모든 data를 dos와 normal로 판단하고 있어서 소수의 class에 대해서는 성능이 매우 안좋다."
   ]
  },
  {
   "cell_type": "markdown",
   "metadata": {},
   "source": [
    "(6) KNN"
   ]
  },
  {
   "cell_type": "code",
   "execution_count": 89,
   "metadata": {
    "collapsed": true
   },
   "outputs": [],
   "source": [
    "model_knn = clf_knn.fit(x,y)"
   ]
  },
  {
   "cell_type": "code",
   "execution_count": 90,
   "metadata": {
    "collapsed": true
   },
   "outputs": [],
   "source": [
    "knn_pred = model_knn.predict(testdata_x)"
   ]
  },
  {
   "cell_type": "code",
   "execution_count": 91,
   "metadata": {},
   "outputs": [
    {
     "data": {
      "text/plain": [
       "0.094600000000000004"
      ]
     },
     "execution_count": 91,
     "metadata": {},
     "output_type": "execute_result"
    }
   ],
   "source": [
    "accuracy_score(testdata_y, knn_pred)"
   ]
  },
  {
   "cell_type": "code",
   "execution_count": 92,
   "metadata": {},
   "outputs": [
    {
     "data": {
      "image/png": "[encoded data removed]",
      "text/plain": [
       "<matplotlib.figure.Figure at 0x1bc27120518>"
      ]
     },
     "metadata": {},
     "output_type": "display_data"
    }
   ],
   "source": [
    "plot.confusion_matrix(testdata_y, knn_pred)\n",
    "plt.show()"
   ]
  },
  {
   "cell_type": "markdown",
   "metadata": {},
   "source": [
    "성능이 매우 나쁘다. KNN은 작은 데이터 값 하나에도 예민하게 반응하는 경향이 있어서 normal과 dos가 다수임에도 불구하고 probe에 치중해있다. 하지만 r2l과 u2r에 대해서도 성능이 매우 나쁘다."
   ]
  },
  {
   "cell_type": "markdown",
   "metadata": {},
   "source": [
    "## 3.4. 소결론"
   ]
  },
  {
   "cell_type": "markdown",
   "metadata": {},
   "source": [
    "가장 좋은 성과를 낸 것은 AdaBoost이지만 probe, u2r, r2l등에 대한 판단을 전혀 내리고 있지 않은 것 같다. 따라서 이 외에도 Random Forest와 MLP를 더 살펴보기로 한다. 하지만 모든 classifier 들이 50%이하의 성능을 내고 있는것으로 보아 feature selection에 문제가 있을 수도 있다. 따라서 임의 drop이 아닌 PCA를 사용해보기로한다."
   ]
  },
  {
   "cell_type": "markdown",
   "metadata": {},
   "source": [
    "\n"
   ]
  },
  {
   "cell_type": "markdown",
   "metadata": {},
   "source": [
    "# 4. PCA"
   ]
  },
  {
   "cell_type": "markdown",
   "metadata": {},
   "source": [
    "## 4.1. drop하지 않은 dataset을 pca로 가공하기"
   ]
  },
  {
   "cell_type": "code",
   "execution_count": 93,
   "metadata": {
    "collapsed": true
   },
   "outputs": [],
   "source": [
    "x_pca = data.iloc[:,:-1]\n",
    "y_pca = data.loc[:,'xAttack']"
   ]
  },
  {
   "cell_type": "code",
   "execution_count": 94,
   "metadata": {
    "collapsed": true
   },
   "outputs": [],
   "source": [
    "scaler = preprocessing.StandardScaler().fit(x_pca)\n",
    "x_pca = scaler.transform(x_pca)"
   ]
  },
  {
   "cell_type": "code",
   "execution_count": 95,
   "metadata": {
    "collapsed": true
   },
   "outputs": [],
   "source": [
    "from sklearn.decomposition import PCA\n",
    "pca = PCA(n_components = 5).fit(x_pca)\n",
    "x_pca = pca.transform(x_pca)"
   ]
  },
  {
   "cell_type": "markdown",
   "metadata": {},
   "source": [
    "## 4.2. testdata를 pca로 가공하기"
   ]
  },
  {
   "cell_type": "code",
   "execution_count": 96,
   "metadata": {
    "collapsed": true
   },
   "outputs": [],
   "source": [
    "testdata_pca = pd.read_csv('test_data.csv') # 다시 불러옴\n",
    "testdata_pca.protocol_type = le.fit_transform(testdata_pca.protocol_type) # le encoding\n",
    "testdata_pca.protocol_type = ohe.fit_transform(testdata_pca.protocol_type.values.reshape(-1, 1)).toarray()\n",
    "# encoding 해서 protocol type을 다 바굼\n",
    "x_testdata_pca = testdata_pca.iloc[:,:-1]\n",
    "y_testdata_pca = testdata_pca.loc[:,'xAttack']\n",
    "# 학습을 위해 x와 y로 나눔\n",
    "x_testdata_pca = scaler.transform(x_testdata_pca)\n",
    "# x를 standardize함\n",
    "x_testdata_pca = pca.transform(x_testdata_pca)\n",
    "#위에서 사용한 pca로 feature를 줄인다"
   ]
  },
  {
   "cell_type": "markdown",
   "metadata": {},
   "source": [
    "## 4.3. Random Forest "
   ]
  },
  {
   "cell_type": "markdown",
   "metadata": {},
   "source": [
    "(1) pca한 data의 cross validation"
   ]
  },
  {
   "cell_type": "code",
   "execution_count": 97,
   "metadata": {},
   "outputs": [
    {
     "name": "stdout",
     "output_type": "stream",
     "text": [
      "Random Forest Accuracy : 0.9946(+/- 0.00)\n"
     ]
    }
   ],
   "source": [
    "scores_rf = cvs(clf_rfc, x_pca, y_pca, cv = 10)\n",
    "print(\"Random Forest Accuracy : %0.4f(+/- %0.2f)\" %(scores_rf.mean(), scores_rf.std() * 2))"
   ]
  },
  {
   "cell_type": "markdown",
   "metadata": {},
   "source": [
    "(2) pca한 test dataset test"
   ]
  },
  {
   "cell_type": "code",
   "execution_count": 98,
   "metadata": {
    "collapsed": true
   },
   "outputs": [],
   "source": [
    "model_pca = clf_rfc.fit(x_pca, y_pca)"
   ]
  },
  {
   "cell_type": "code",
   "execution_count": 99,
   "metadata": {
    "collapsed": true
   },
   "outputs": [],
   "source": [
    "pred_pca = model_pca.predict(x_testdata_pca)"
   ]
  },
  {
   "cell_type": "code",
   "execution_count": 100,
   "metadata": {},
   "outputs": [
    {
     "data": {
      "text/plain": [
       "0.73070000000000002"
      ]
     },
     "execution_count": 100,
     "metadata": {},
     "output_type": "execute_result"
    }
   ],
   "source": [
    "accuracy_score(y_testdata_pca, pred_pca)"
   ]
  },
  {
   "cell_type": "code",
   "execution_count": 101,
   "metadata": {},
   "outputs": [
    {
     "data": {
      "image/png": "[encoded data removed]",
      "text/plain": [
       "<matplotlib.figure.Figure at 0x1bc2c7e08d0>"
      ]
     },
     "metadata": {},
     "output_type": "display_data"
    }
   ],
   "source": [
    "plot.confusion_matrix(y_testdata_pca, pred_pca)\n",
    "plt.show()"
   ]
  },
  {
   "cell_type": "markdown",
   "metadata": {},
   "source": [
    "PCA가 성능이 훨씬 좋다. 다수인 normal, dos뿐만아니라 probe와 r2l도 이전보다 잘 찾아내고 있다. 다른 clasifier algorithm도 pca한 데이터를 사용해본다. "
   ]
  },
  {
   "cell_type": "markdown",
   "metadata": {},
   "source": [
    "Random Forest의 성능이 좋으므로, 다른 것도 시도해본다."
   ]
  },
  {
   "cell_type": "markdown",
   "metadata": {},
   "source": [
    "(3) estimator 수 변경"
   ]
  },
  {
   "cell_type": "code",
   "execution_count": 102,
   "metadata": {},
   "outputs": [
    {
     "data": {
      "text/plain": [
       "0.73619999999999997"
      ]
     },
     "execution_count": 102,
     "metadata": {},
     "output_type": "execute_result"
    }
   ],
   "source": [
    "clf_rf2 = RandomForestClassifier(n_estimators = 10)\n",
    "model_pca2 = clf_rf2.fit(x_pca, y_pca)\n",
    "pred_pca2 = model_pca2.predict(x_testdata_pca)\n",
    "accuracy_score(y_testdata_pca, pred_pca2)"
   ]
  },
  {
   "cell_type": "code",
   "execution_count": 103,
   "metadata": {},
   "outputs": [
    {
     "data": {
      "image/png": "[encoded data removed]",
      "text/plain": [
       "<matplotlib.figure.Figure at 0x1bc286b9320>"
      ]
     },
     "metadata": {},
     "output_type": "display_data"
    }
   ],
   "source": [
    "plot.confusion_matrix(y_testdata_pca, pred_pca2)\n",
    "plt.show()"
   ]
  },
  {
   "cell_type": "markdown",
   "metadata": {},
   "source": [
    "(4) criterion 변경"
   ]
  },
  {
   "cell_type": "code",
   "execution_count": 104,
   "metadata": {},
   "outputs": [
    {
     "data": {
      "text/plain": [
       "0.73599999999999999"
      ]
     },
     "execution_count": 104,
     "metadata": {},
     "output_type": "execute_result"
    }
   ],
   "source": [
    "clf_rf3 = RandomForestClassifier(criterion = 'entropy')\n",
    "model_pca3 = clf_rf3.fit(x_pca, y_pca)\n",
    "pred_pca3 = model_pca3.predict(x_testdata_pca)\n",
    "accuracy_score(y_testdata_pca, pred_pca3)"
   ]
  },
  {
   "cell_type": "code",
   "execution_count": 105,
   "metadata": {},
   "outputs": [
    {
     "data": {
      "image/png": "[encoded data removed]",
      "text/plain": [
       "<matplotlib.figure.Figure at 0x1bc2867b240>"
      ]
     },
     "metadata": {},
     "output_type": "display_data"
    }
   ],
   "source": [
    "plot.confusion_matrix(y_testdata_pca, pred_pca3)\n",
    "plt.show()"
   ]
  },
  {
   "cell_type": "markdown",
   "metadata": {},
   "source": [
    "## 4.4. MLP"
   ]
  },
  {
   "cell_type": "markdown",
   "metadata": {},
   "source": [
    "(1) pca한 data의 cross validation"
   ]
  },
  {
   "cell_type": "code",
   "execution_count": 106,
   "metadata": {},
   "outputs": [
    {
     "name": "stdout",
     "output_type": "stream",
     "text": [
      "MLP Accuracy : 0.9842(+/- 0.00)\n"
     ]
    }
   ],
   "source": [
    "scores_mlp = cvs(clf_mlp, x_pca, y_pca, cv = 10)\n",
    "print(\"MLP Accuracy : %0.4f(+/- %0.2f)\" %(scores_mlp.mean(), scores_mlp.std() * 2))"
   ]
  },
  {
   "cell_type": "markdown",
   "metadata": {},
   "source": [
    "(2) pca한 test dataset test"
   ]
  },
  {
   "cell_type": "code",
   "execution_count": 107,
   "metadata": {},
   "outputs": [
    {
     "data": {
      "text/plain": [
       "0.72050000000000003"
      ]
     },
     "execution_count": 107,
     "metadata": {},
     "output_type": "execute_result"
    }
   ],
   "source": [
    "model_pca = clf_mlp.fit(x_pca, y_pca)\n",
    "pred_pca = model_pca.predict(x_testdata_pca)\n",
    "accuracy_score(y_testdata_pca, pred_pca)"
   ]
  },
  {
   "cell_type": "code",
   "execution_count": 108,
   "metadata": {},
   "outputs": [
    {
     "data": {
      "image/png": "[encoded data removed]",
      "text/plain": [
       "<matplotlib.figure.Figure at 0x1bc2c7f8a90>"
      ]
     },
     "metadata": {},
     "output_type": "display_data"
    }
   ],
   "source": [
    "plot.confusion_matrix(y_testdata_pca, pred_pca)\n",
    "plt.show()"
   ]
  },
  {
   "cell_type": "markdown",
   "metadata": {},
   "source": [
    "(3) hidden layer 바꿔보기"
   ]
  },
  {
   "cell_type": "code",
   "execution_count": 109,
   "metadata": {},
   "outputs": [
    {
     "data": {
      "text/plain": [
       "0.72570000000000001"
      ]
     },
     "execution_count": 109,
     "metadata": {},
     "output_type": "execute_result"
    }
   ],
   "source": [
    "clf_mlp2 = MLPClassifier(hidden_layer_sizes = 5)\n",
    "model_pca2 = clf_mlp2.fit(x_pca, y_pca)\n",
    "pred_pca2 = model_pca2.predict(x_testdata_pca)\n",
    "accuracy_score(y_testdata_pca, pred_pca2)"
   ]
  },
  {
   "cell_type": "markdown",
   "metadata": {},
   "source": [
    "(4) activation function 바꿔보기"
   ]
  },
  {
   "cell_type": "code",
   "execution_count": 110,
   "metadata": {},
   "outputs": [
    {
     "data": {
      "text/plain": [
       "0.72860000000000003"
      ]
     },
     "execution_count": 110,
     "metadata": {},
     "output_type": "execute_result"
    }
   ],
   "source": [
    "clf_mlp3 = MLPClassifier(activation = 'logistic')\n",
    "model_pca3 = clf_mlp3.fit(x_pca, y_pca)\n",
    "pred_pca3 = model_pca3.predict(x_testdata_pca)\n",
    "accuracy_score(y_testdata_pca, pred_pca3)"
   ]
  },
  {
   "cell_type": "code",
   "execution_count": 111,
   "metadata": {},
   "outputs": [
    {
     "data": {
      "image/png": "[encoded data removed]",
      "text/plain": [
       "<matplotlib.figure.Figure at 0x1bc286900f0>"
      ]
     },
     "metadata": {},
     "output_type": "display_data"
    }
   ],
   "source": [
    "plot.confusion_matrix(y_testdata_pca, pred_pca3)\n",
    "plt.show()"
   ]
  },
  {
   "cell_type": "markdown",
   "metadata": {},
   "source": [
    "## 4.5. AdaBoost "
   ]
  },
  {
   "cell_type": "markdown",
   "metadata": {},
   "source": [
    "(1) pca한 data의 cross validation"
   ]
  },
  {
   "cell_type": "code",
   "execution_count": 114,
   "metadata": {},
   "outputs": [
    {
     "name": "stdout",
     "output_type": "stream",
     "text": [
      "AdaBoost Accuracy : 0.5194(+/- 0.23)\n"
     ]
    }
   ],
   "source": [
    "scores_ada= cvs(clf_ada, x_pca, y_pca, cv = 10)\n",
    "print(\"AdaBoost Accuracy : %0.4f(+/- %0.2f)\" %(scores_ada.mean(), scores_ada.std() * 2))"
   ]
  },
  {
   "cell_type": "markdown",
   "metadata": {},
   "source": [
    "(2) pca한 test dataset test"
   ]
  },
  {
   "cell_type": "code",
   "execution_count": 113,
   "metadata": {},
   "outputs": [
    {
     "data": {
      "text/plain": [
       "0.4723"
      ]
     },
     "execution_count": 113,
     "metadata": {},
     "output_type": "execute_result"
    }
   ],
   "source": [
    "model_pca = clf_ada.fit(x_pca, y_pca)\n",
    "pred_pca = model_pca.predict(x_testdata_pca)\n",
    "accuracy_score(y_testdata_pca, pred_pca)"
   ]
  },
  {
   "cell_type": "code",
   "execution_count": 115,
   "metadata": {},
   "outputs": [
    {
     "data": {
      "image/png": "[encoded data removed]",
      "text/plain": [
       "<matplotlib.figure.Figure at 0x1bc28684940>"
      ]
     },
     "metadata": {},
     "output_type": "display_data"
    }
   ],
   "source": [
    "plot.confusion_matrix(y_testdata_pca, pred_pca)\n",
    "plt.show()"
   ]
  },
  {
   "cell_type": "markdown",
   "metadata": {},
   "source": [
    "## 4.6. SVM"
   ]
  },
  {
   "cell_type": "markdown",
   "metadata": {},
   "source": [
    "feature drop 이후에도 time complexity 가 너무 높아 해보지 못했던 SVM을 해본다. PCA를 통해 dimension을 줄였으니 충분히 가능할 것으로 보인다."
   ]
  },
  {
   "cell_type": "code",
   "execution_count": 116,
   "metadata": {
    "collapsed": true
   },
   "outputs": [],
   "source": [
    "from sklearn.svm import SVC\n",
    "clf_svc = SVC()"
   ]
  },
  {
   "cell_type": "markdown",
   "metadata": {},
   "source": [
    "(1) pca한 data의 cross validation"
   ]
  },
  {
   "cell_type": "code",
   "execution_count": 117,
   "metadata": {},
   "outputs": [
    {
     "name": "stdout",
     "output_type": "stream",
     "text": [
      "SVM Accuracy : 0.9761(+/- 0.00)\n"
     ]
    }
   ],
   "source": [
    "scores_svm = cvs(clf_svc, x_pca, y_pca, cv = 10)\n",
    "print(\"SVM Accuracy : %0.4f(+/- %0.2f)\" %(scores_svm.mean(), scores_svm.std() * 2))"
   ]
  },
  {
   "cell_type": "markdown",
   "metadata": {},
   "source": [
    "(2) pca한 test dataset test"
   ]
  },
  {
   "cell_type": "code",
   "execution_count": 118,
   "metadata": {},
   "outputs": [
    {
     "data": {
      "text/plain": [
       "0.73060000000000003"
      ]
     },
     "execution_count": 118,
     "metadata": {},
     "output_type": "execute_result"
    }
   ],
   "source": [
    "model_pca = clf_svc.fit(x_pca, y_pca)\n",
    "pred_pca = model_pca.predict(x_testdata_pca)\n",
    "accuracy_score(y_testdata_pca, pred_pca)"
   ]
  },
  {
   "cell_type": "code",
   "execution_count": 119,
   "metadata": {},
   "outputs": [
    {
     "data": {
      "image/png": "[encoded data removed]",
      "text/plain": [
       "<matplotlib.figure.Figure at 0x1bc2f9359e8>"
      ]
     },
     "metadata": {},
     "output_type": "display_data"
    }
   ],
   "source": [
    "plot.confusion_matrix(y_testdata_pca, pred_pca)\n",
    "plt.show()"
   ]
  },
  {
   "cell_type": "markdown",
   "metadata": {},
   "source": [
    "(3) 다른 svm classifier"
   ]
  },
  {
   "cell_type": "markdown",
   "metadata": {},
   "source": [
    "svm이 성능이 좋으므로, parameter를 조정해서 시도해본다."
   ]
  },
  {
   "cell_type": "code",
   "execution_count": 120,
   "metadata": {},
   "outputs": [
    {
     "data": {
      "text/plain": [
       "0.7218"
      ]
     },
     "execution_count": 120,
     "metadata": {},
     "output_type": "execute_result"
    }
   ],
   "source": [
    "clf_svc2 = SVC(kernel = 'poly')\n",
    "model_pca2 = clf_svc2.fit(x_pca, y_pca)\n",
    "pred_pca2 = model_pca2.predict(x_testdata_pca)\n",
    "accuracy_score(y_testdata_pca, pred_pca2)"
   ]
  },
  {
   "cell_type": "code",
   "execution_count": 121,
   "metadata": {},
   "outputs": [
    {
     "data": {
      "text/plain": [
       "0.5544"
      ]
     },
     "execution_count": 121,
     "metadata": {},
     "output_type": "execute_result"
    }
   ],
   "source": [
    "clf_svc3 = SVC(kernel = 'sigmoid')\n",
    "model_pca3 = clf_svc3.fit(x_pca, y_pca)\n",
    "pred_pca3 = model_pca3.predict(x_testdata_pca)\n",
    "accuracy_score(y_testdata_pca, pred_pca3)"
   ]
  },
  {
   "cell_type": "markdown",
   "metadata": {},
   "source": [
    "## 4.7. 소결론"
   ]
  },
  {
   "cell_type": "markdown",
   "metadata": {},
   "source": [
    "PCA는 dimension reduction 방법으로, feature 관게를 통해 새로운 feature를 만들어낼 수 있다는 특성을 가지고 있다. 아마 PCA가 높은 성능은 낸 것은, network intrusion을 파악하는 방법 때문인 것 같다. 에를 들어서 dos 공격 같은 경우, icmp protocol에서 패킷들이 너무 많이 들어온다던지, 혹시 tcp protocol에서 SYN이 지나치게 많이 들어온다던지 하는 상황은 모두 dos로 의심해볼 수 있듯이, protocol_type과 패킷 rate을 합치면 더 좋은 classify를 위한 기준이 될 수 있을 것으로 보인다. "
   ]
  },
  {
   "cell_type": "markdown",
   "metadata": {},
   "source": [
    "\n",
    "\n",
    "\n",
    "\n"
   ]
  },
  {
   "cell_type": "markdown",
   "metadata": {},
   "source": [
    "# 5. 최종 모델"
   ]
  },
  {
   "cell_type": "markdown",
   "metadata": {},
   "source": [
    "사실 Random Forest의 모든 model들이 좋은 성능을 냈고, MLP의 model들도 좋았고, SVM도 좋아서 큰 차이는 없었지만, 상대적으로 Random Forest의 model building 속도가 빨랐다는 점, parameter를 변경해도 일정하게 성능이 좋았다는 점 때문에 Random Forest를 최종 선정하였다."
   ]
  },
  {
   "cell_type": "markdown",
   "metadata": {},
   "source": [
    "아래는 데이터를 새로 load해서 처음부터 모든 데이터 전처리를 고치고, model을 만든 후,10-fold cross validation과 test_data,csv를 통해 성능을 측정하고, metrics까지 그린 결과이다."
   ]
  },
  {
   "cell_type": "code",
   "execution_count": 122,
   "metadata": {
    "collapsed": true
   },
   "outputs": [],
   "source": [
    "data_final = pd.read_csv('Train_data.csv')\n",
    "data_final.protocol_type = le.fit_transform(data_final.protocol_type)\n",
    "data_final.protocol_type = ohe.fit_transform(data_final.protocol_type.values.reshape(-1, 1)).toarray()\n",
    "x_final = data_final.iloc[:,:-1]\n",
    "y_final = data_final.loc[:,'xAttack']\n",
    "scaler_final = preprocessing.StandardScaler().fit(x_final)\n",
    "x_final = scaler_final.transform(x_final)\n",
    "from sklearn.decomposition import PCA\n",
    "pca = PCA(n_components = 5).fit(x_final)\n",
    "x_final = pca.transform(x_final)"
   ]
  },
  {
   "cell_type": "code",
   "execution_count": 123,
   "metadata": {
    "collapsed": true
   },
   "outputs": [],
   "source": [
    "clf_final = RandomForestClassifier()\n",
    "model_final = clf_final.fit(x_final, y_final)"
   ]
  },
  {
   "cell_type": "code",
   "execution_count": 124,
   "metadata": {},
   "outputs": [
    {
     "name": "stdout",
     "output_type": "stream",
     "text": [
      "Accuracy : 0.9946(+/- 0.00)\n"
     ]
    }
   ],
   "source": [
    "scores = cvs(clf_final, x_final, y_final, cv = 10)\n",
    "print(\"Accuracy : %0.4f(+/- %0.2f)\" %(scores.mean(), scores.std() * 2))"
   ]
  },
  {
   "cell_type": "code",
   "execution_count": 125,
   "metadata": {},
   "outputs": [
    {
     "data": {
      "text/plain": [
       "0.73160000000000003"
      ]
     },
     "execution_count": 125,
     "metadata": {},
     "output_type": "execute_result"
    }
   ],
   "source": [
    "pred = model_final.predict(x_testdata_pca)\n",
    "accuracy_score(y_testdata_pca, pred)"
   ]
  },
  {
   "cell_type": "code",
   "execution_count": 126,
   "metadata": {},
   "outputs": [
    {
     "data": {
      "image/png": "[encoded data removed]",
      "text/plain": [
       "<matplotlib.figure.Figure at 0x1bc35cae7f0>"
      ]
     },
     "metadata": {},
     "output_type": "display_data"
    }
   ],
   "source": [
    "plot.confusion_matrix(y_testdata_pca, pred)\n",
    "plt.show()"
   ]
  },
  {
   "cell_type": "code",
   "execution_count": null,
   "metadata": {
    "collapsed": true
   },
   "outputs": [],
   "source": []
  }
 ],
 "metadata": {
  "kernelspec": {
   "display_name": "Python 3",
   "language": "python",
   "name": "python3"
  },
  "language_info": {
   "codemirror_mode": {
    "name": "ipython",
    "version": 3
   },
   "file_extension": ".py",
   "mimetype": "text/x-python",
   "name": "python",
   "nbconvert_exporter": "python",
   "pygments_lexer": "ipython3",
   "version": "3.8.5"
  }
 },
 "nbformat": 4,
 "nbformat_minor": 2
}
